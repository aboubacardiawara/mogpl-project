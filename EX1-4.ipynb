{
 "cells": [
  {
   "cell_type": "code",
   "execution_count": 41,
   "metadata": {},
   "outputs": [],
   "source": [
    "from gurobipy import *\n",
    "import numpy as np\n",
    "import math as mt"
   ]
  },
  {
   "cell_type": "code",
   "execution_count": 42,
   "metadata": {},
   "outputs": [
    {
     "name": "stdout",
     "output_type": "stream",
     "text": [
      "[2, 1]\n"
     ]
    }
   ],
   "source": [
    "# Poser le nombre des varialbles et des contraintes\n",
    "nbcont=5\n",
    "nbvar=11\n",
    "w=[2,1]\n",
    "n=2\n",
    "p1=3\n",
    "p=5\n",
    "print(w)"
   ]
  },
  {
   "cell_type": "code",
   "execution_count": 43,
   "metadata": {},
   "outputs": [
    {
     "name": "stdout",
     "output_type": "stream",
     "text": [
      "[[5. 6. 4. 8. 1.]\n",
      " [3. 8. 6. 2. 5.]]\n"
     ]
    }
   ],
   "source": [
    "# Creer une matrice utilite\n",
    "u=np.zeros(5)\n",
    "u1= np.array([5,6,4,8,1])\n",
    "u=np.vstack((u1,u))\n",
    "u=np.delete(u, (n-1), axis=0)\n",
    "u1= np.array([3,8,6,2,5])\n",
    "u=np.vstack((u,u1))\n",
    "print(u)"
   ]
  },
  {
   "cell_type": "code",
   "execution_count": 44,
   "metadata": {},
   "outputs": [
    {
     "name": "stdout",
     "output_type": "stream",
     "text": [
      "[1, 1]\n"
     ]
    }
   ],
   "source": [
    "# Creer le vecteur w'\n",
    "w1=[]\n",
    "for i in range(n):\n",
    "    if i==n-1 :\n",
    "        w1.append(w[i])\n",
    "    else :\n",
    "        w1.append(w[i]-w[i+1])\n",
    "\n",
    "print(w1)"
   ]
  },
  {
   "cell_type": "code",
   "execution_count": 45,
   "metadata": {},
   "outputs": [
    {
     "name": "stdout",
     "output_type": "stream",
     "text": [
      "[[ 1.  0. -1. -0. -0. -0. -5. -6. -4. -8. -1.]\n",
      " [ 0.  1. -0. -1. -0. -0. -5. -6. -4. -8. -1.]\n",
      " [ 1.  0. -0. -0. -1. -0. -3. -8. -6. -2. -5.]\n",
      " [ 0.  1. -0. -0. -0. -1. -3. -8. -6. -2. -5.]\n",
      " [ 0.  0.  0.  0.  0.  0.  1.  1.  1.  1.  1.]]\n"
     ]
    }
   ],
   "source": [
    "# 2) generer la matrice des contraintes des x\n",
    "\n",
    "L=np.array([])\n",
    "L2=np.zeros((p,1))\n",
    "b=np.zeros(p)\n",
    "\n",
    "u_prim=-1*u\n",
    "\n",
    "\n",
    "for k in range(n):\n",
    "     for i in range (n):\n",
    "          for j in range(p):\n",
    "               L=np.append(L,[u_prim[k,j]])\n",
    "   \n",
    "          b=np.vstack((b,L))  \n",
    "          L=np.array([])\n",
    "b=np.delete(b, [0], axis=0)\n",
    "\n",
    "L=np.ones(p)\n",
    "b=np.vstack((b,L)) \n",
    "\n",
    "\n",
    "\n",
    "# 2) generer la matrice des contraintes des bik\n",
    "L=np.identity(n*n)\n",
    "L=-1*L\n",
    "for i in range (nbcont-n*n):\n",
    "     L1=np.zeros(n*n)\n",
    "     L =np.vstack((L,L1))\n",
    "\n",
    "\n",
    "# 2) concatener la matrice des contraintes des bik et des xj dans la matrice b\n",
    "\n",
    "b=np.concatenate((L,b),axis=1)\n",
    "\n",
    "\n",
    "# 3) generer la matrice des contraintes des rk\n",
    "L2=np.zeros((1,n))\n",
    "for i in range(n):\n",
    "    L1=np.identity(n)\n",
    "    L2=np.vstack((L1,L2))\n",
    "\n",
    "\n",
    "# 2) concatener la matrice des contraintes rk et b\n",
    "b=np.concatenate((L2,b),axis=1)\n",
    "print(b)"
   ]
  },
  {
   "cell_type": "code",
   "execution_count": 46,
   "metadata": {},
   "outputs": [
    {
     "name": "stdout",
     "output_type": "stream",
     "text": [
      "[0, 0, 0, 0, 3]\n"
     ]
    }
   ],
   "source": [
    "# Second membre\n",
    "S= [0 for i in range (n*n)]\n",
    "S.append(3)\n",
    "\n",
    "print(S)"
   ]
  },
  {
   "cell_type": "code",
   "execution_count": 47,
   "metadata": {},
   "outputs": [
    {
     "name": "stdout",
     "output_type": "stream",
     "text": [
      "[1, 2, -1, -1, -1, -1, 0, 0, 0, 0, 0]\n"
     ]
    }
   ],
   "source": [
    "# Coefficients de la fonction objectif\n",
    "# generer les Coefficients des r\n",
    "a=[]\n",
    "for i in range(1,n+1):\n",
    "    a.append(i*w1[i-1])\n",
    "# generer les Coefficients des bik\n",
    "for i in range(n):\n",
    "    for j in range(n):\n",
    "        a.append(-1*w1[j])\n",
    "# generer les Coefficients des x\n",
    "for i in range (p):\n",
    "    a.append(0)\n",
    "print(a)"
   ]
  },
  {
   "cell_type": "code",
   "execution_count": 48,
   "metadata": {},
   "outputs": [],
   "source": [
    "# Creer les models de la fonction objectif\n",
    "m = Model(\"exercice1.4\") "
   ]
  },
  {
   "cell_type": "code",
   "execution_count": 49,
   "metadata": {},
   "outputs": [
    {
     "name": "stdout",
     "output_type": "stream",
     "text": [
      "[<gurobi.Var r1>, <gurobi.Var r2>, <gurobi.Var b11>, <gurobi.Var b12>, <gurobi.Var b21>, <gurobi.Var b22>, <gurobi.Var x1>, <gurobi.Var x2>, <gurobi.Var x3>, <gurobi.Var x4>, <gurobi.Var x5>]\n"
     ]
    }
   ],
   "source": [
    "# declaration des variables de decisions\n",
    "x = []\n",
    "for i in range(n):\n",
    "    x.append(m.addVar(vtype=GRB.CONTINUOUS, lb=0, name=\"r%d\" % (i+1)))\n",
    "for i in range (n):\n",
    "    for j in range(n):\n",
    "        x.append(m.addVar(vtype=GRB.CONTINUOUS, lb=0, name=\"b%d%d\" % ((i+1,(j+1)))))\n",
    "for j in range(p):\n",
    "    x.append(m.addVar(vtype=GRB.BINARY, lb=0, name=\"x%d\" % (j+1) ))\n",
    "\n",
    "# maj du modele pour integrer les nouvelles variables\n",
    "m.update()\n",
    "print(x)"
   ]
  },
  {
   "cell_type": "code",
   "execution_count": 50,
   "metadata": {},
   "outputs": [],
   "source": [
    "# definition de l'objectif\n",
    "obj = LinExpr();\n",
    "obj =0\n",
    "for j in range(nbvar):\n",
    "    obj += a[j] * x[j]\n",
    "\n",
    "m.setObjective(obj,GRB.MAXIMIZE)"
   ]
  },
  {
   "cell_type": "code",
   "execution_count": 51,
   "metadata": {},
   "outputs": [
    {
     "data": {
      "text/plain": [
       "<gurobi.Constr *Awaiting Model Update*>"
      ]
     },
     "execution_count": 51,
     "metadata": {},
     "output_type": "execute_result"
    }
   ],
   "source": [
    "# Definition des contraintes\n",
    "lignes = range(nbcont)\n",
    "colonnes = range(nbvar)\n",
    "\n",
    "for i in lignes[:-1]:\n",
    "    m.addConstr(quicksum(b[i][j]*x[j] for j in colonnes) <= S[i], \"Contrainte%d\" % i)\n",
    "    \n",
    "m.addConstr(quicksum(b[-1][j]*x[j] for j in colonnes) == S[-1], \"Contrainte%d\" % i)"
   ]
  },
  {
   "cell_type": "code",
   "execution_count": 52,
   "metadata": {},
   "outputs": [
    {
     "name": "stdout",
     "output_type": "stream",
     "text": [
      "Gurobi Optimizer version 10.0.0 build v10.0.0rc2 (mac64[x86])\n",
      "\n",
      "CPU model: Intel(R) Core(TM) i5-7360U CPU @ 2.30GHz\n",
      "Thread count: 2 physical cores, 4 logical processors, using up to 4 threads\n",
      "\n",
      "Optimize a model with 5 rows, 11 columns and 33 nonzeros\n",
      "Model fingerprint: 0xd87a7057\n",
      "Variable types: 6 continuous, 5 integer (5 binary)\n",
      "Coefficient statistics:\n",
      "  Matrix range     [1e+00, 8e+00]\n",
      "  Objective range  [1e+00, 2e+00]\n",
      "  Bounds range     [1e+00, 1e+00]\n",
      "  RHS range        [3e+00, 3e+00]\n",
      "Found heuristic solution: objective 45.0000000\n",
      "Presolve time: 0.00s\n",
      "Presolved: 5 rows, 11 columns, 29 nonzeros\n",
      "Variable types: 6 continuous, 5 integer (5 binary)\n",
      "\n",
      "Root relaxation: objective 5.000000e+01, 7 iterations, 0.00 seconds (0.00 work units)\n",
      "\n",
      "    Nodes    |    Current Node    |     Objective Bounds      |     Work\n",
      " Expl Unexpl |  Obj  Depth IntInf | Incumbent    BestBd   Gap | It/Node Time\n",
      "\n",
      "*    0     0               0      50.0000000   50.00000  0.00%     -    0s\n",
      "\n",
      "Explored 1 nodes (7 simplex iterations) in 0.02 seconds (0.00 work units)\n",
      "Thread count was 4 (of 4 available processors)\n",
      "\n",
      "Solution count 2: 50 45 \n",
      "\n",
      "Optimal solution found (tolerance 1.00e-04)\n",
      "Best objective 5.000000000000e+01, best bound 5.000000000000e+01, gap 0.0000%\n",
      "\n",
      "Solution optimale:\n",
      "r1 = 16.0\n",
      "r2 = 18.0\n",
      "b11 = 0.0\n",
      "b12 = 0.0\n",
      "b21 = 0.0\n",
      "b22 = 2.0\n",
      "x1 = 0.0\n",
      "x2 = 1.0\n",
      "x3 = 1.0\n",
      "x4 = 1.0\n",
      "x5 = -0.0\n",
      "\n",
      "Valeur de la fonction objectif : 50.0\n"
     ]
    }
   ],
   "source": [
    "# Resolution\n",
    "m.optimize()\n",
    "\n",
    "\n",
    "print(\"\")                \n",
    "print('Solution optimale:')\n",
    "mvars = m.getVars()\n",
    "names = m.getAttr('VarName', mvars)\n",
    "values = m.getAttr('X', mvars)\n",
    "result = dict(zip(names, values))\n",
    "for key in result:\n",
    "    print(key,'=',result[key])\n",
    "print(\"\")\n",
    "print('Valeur de la fonction objectif :', m.objVal)"
   ]
  }
 ],
 "metadata": {
  "kernelspec": {
   "display_name": "Python 3.11.0 64-bit",
   "language": "python",
   "name": "python3"
  },
  "language_info": {
   "codemirror_mode": {
    "name": "ipython",
    "version": 3
   },
   "file_extension": ".py",
   "mimetype": "text/x-python",
   "name": "python",
   "nbconvert_exporter": "python",
   "pygments_lexer": "ipython3",
   "version": "3.11.0"
  },
  "orig_nbformat": 4,
  "vscode": {
   "interpreter": {
    "hash": "aee8b7b246df8f9039afb4144a1f6fd8d2ca17a180786b69acc140d282b71a49"
   }
  }
 },
 "nbformat": 4,
 "nbformat_minor": 2
}
