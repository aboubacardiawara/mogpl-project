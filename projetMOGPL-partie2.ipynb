{
 "cells": [
  {
   "cell_type": "code",
   "execution_count": 313,
   "metadata": {},
   "outputs": [],
   "source": [
    "from gurobipy import *\n",
    "import numpy as np\n",
    "import math as mt"
   ]
  },
  {
   "cell_type": "code",
   "execution_count": 314,
   "metadata": {},
   "outputs": [
    {
     "name": "stdout",
     "output_type": "stream",
     "text": [
      "[3, 2, 1]\n"
     ]
    }
   ],
   "source": [
    "# Poser le nombre des varialbles et des contraintes\n",
    "nbcont=15\n",
    "nbvar=30\n",
    "w=[3,2,1]\n",
    "n=3\n",
    "p=6\n",
    "print(w)"
   ]
  },
  {
   "cell_type": "code",
   "execution_count": 315,
   "metadata": {},
   "outputs": [
    {
     "name": "stdout",
     "output_type": "stream",
     "text": [
      "[[325. 225. 210. 115.  75.  50.]\n",
      " [325. 225. 210. 115.  75.  50.]\n",
      " [325. 225. 210. 115.  75.  50.]]\n"
     ]
    }
   ],
   "source": [
    "# Creer une matrice utilite\n",
    "u=np.zeros(6)\n",
    "u1= np.array([325,225,210,115,75,50])\n",
    "for i in range(n):\n",
    "    u=np.vstack((u1,u))\n",
    "\n",
    "u=np.delete(u, (n), axis=0)\n",
    "print(u)\n"
   ]
  },
  {
   "cell_type": "code",
   "execution_count": 316,
   "metadata": {},
   "outputs": [
    {
     "name": "stdout",
     "output_type": "stream",
     "text": [
      "[1, 1, 1]\n"
     ]
    }
   ],
   "source": [
    "# Creer le vecteur w'\n",
    "w1=[]\n",
    "for i in range(n):\n",
    "    if i==n-1 :\n",
    "        w1.append(w[i])\n",
    "    else :\n",
    "        w1.append(w[i]-w[i+1])\n",
    "\n",
    "print(w1)"
   ]
  },
  {
   "cell_type": "code",
   "execution_count": 317,
   "metadata": {},
   "outputs": [
    {
     "name": "stdout",
     "output_type": "stream",
     "text": [
      "[[   1.    0.    0.   -1.   -0.   -0.   -0.   -0.   -0.   -0.   -0.   -0.\n",
      "  -325. -225. -210. -115.  -75.  -50.    0.    0.    0.    0.    0.    0.\n",
      "     0.    0.    0.    0.    0.    0.]\n",
      " [   0.    1.    0.   -0.   -1.   -0.   -0.   -0.   -0.   -0.   -0.   -0.\n",
      "  -325. -225. -210. -115.  -75.  -50.    0.    0.    0.    0.    0.    0.\n",
      "     0.    0.    0.    0.    0.    0.]\n",
      " [   0.    0.    1.   -0.   -0.   -1.   -0.   -0.   -0.   -0.   -0.   -0.\n",
      "  -325. -225. -210. -115.  -75.  -50.    0.    0.    0.    0.    0.    0.\n",
      "     0.    0.    0.    0.    0.    0.]\n",
      " [   1.    0.    0.   -0.   -0.   -0.   -1.   -0.   -0.   -0.   -0.   -0.\n",
      "     0.    0.    0.    0.    0.    0. -325. -225. -210. -115.  -75.  -50.\n",
      "     0.    0.    0.    0.    0.    0.]\n",
      " [   0.    1.    0.   -0.   -0.   -0.   -0.   -1.   -0.   -0.   -0.   -0.\n",
      "     0.    0.    0.    0.    0.    0. -325. -225. -210. -115.  -75.  -50.\n",
      "     0.    0.    0.    0.    0.    0.]\n",
      " [   0.    0.    1.   -0.   -0.   -0.   -0.   -0.   -1.   -0.   -0.   -0.\n",
      "     0.    0.    0.    0.    0.    0. -325. -225. -210. -115.  -75.  -50.\n",
      "     0.    0.    0.    0.    0.    0.]\n",
      " [   1.    0.    0.   -0.   -0.   -0.   -0.   -0.   -0.   -1.   -0.   -0.\n",
      "     0.    0.    0.    0.    0.    0.    0.    0.    0.    0.    0.    0.\n",
      "  -325. -225. -210. -115.  -75.  -50.]\n",
      " [   0.    1.    0.   -0.   -0.   -0.   -0.   -0.   -0.   -0.   -1.   -0.\n",
      "     0.    0.    0.    0.    0.    0.    0.    0.    0.    0.    0.    0.\n",
      "  -325. -225. -210. -115.  -75.  -50.]\n",
      " [   0.    0.    1.   -0.   -0.   -0.   -0.   -0.   -0.   -0.   -0.   -1.\n",
      "     0.    0.    0.    0.    0.    0.    0.    0.    0.    0.    0.    0.\n",
      "  -325. -225. -210. -115.  -75.  -50.]\n",
      " [   0.    0.    0.    0.    0.    0.    0.    0.    0.    0.    0.    0.\n",
      "     1.    0.    0.    0.    0.    0.    1.    0.    0.    0.    0.    0.\n",
      "     1.    0.    0.    0.    0.    0.]\n",
      " [   0.    0.    0.    0.    0.    0.    0.    0.    0.    0.    0.    0.\n",
      "     0.    1.    0.    0.    0.    0.    0.    1.    0.    0.    0.    0.\n",
      "     0.    1.    0.    0.    0.    0.]\n",
      " [   0.    0.    0.    0.    0.    0.    0.    0.    0.    0.    0.    0.\n",
      "     0.    0.    1.    0.    0.    0.    0.    0.    1.    0.    0.    0.\n",
      "     0.    0.    1.    0.    0.    0.]\n",
      " [   0.    0.    0.    0.    0.    0.    0.    0.    0.    0.    0.    0.\n",
      "     0.    0.    0.    1.    0.    0.    0.    0.    0.    1.    0.    0.\n",
      "     0.    0.    0.    1.    0.    0.]\n",
      " [   0.    0.    0.    0.    0.    0.    0.    0.    0.    0.    0.    0.\n",
      "     0.    0.    0.    0.    1.    0.    0.    0.    0.    0.    1.    0.\n",
      "     0.    0.    0.    0.    1.    0.]\n",
      " [   0.    0.    0.    0.    0.    0.    0.    0.    0.    0.    0.    0.\n",
      "     0.    0.    0.    0.    0.    1.    0.    0.    0.    0.    0.    1.\n",
      "     0.    0.    0.    0.    0.    1.]]\n"
     ]
    }
   ],
   "source": [
    "# Matrice des contraintes\n",
    "# 1) generer la matrice des contraintes des x\n",
    "L=np.array([])\n",
    "L2=np.zeros((6,1))\n",
    "b=np.zeros(n*p)\n",
    "\n",
    "u_prim=-1*u\n",
    "\n",
    "for i in range (n):\n",
    "    for j in range(p):\n",
    "         L=np.append(L,[u_prim[i,j]])\n",
    "    for k in range(nbvar-(n*p)):\n",
    "         L=np.append(L,0)\n",
    "\n",
    "    b=np.vstack((L,b))  \n",
    "    L=np.array([])\n",
    "b=np.delete(b, (n), axis=0)\n",
    "\n",
    "for i in range (n):\n",
    "    for k in range(p):\n",
    "         L=np.append(L,0)\n",
    "    for j in range(p):\n",
    "         L=np.append(L,[u_prim[i,j]])\n",
    "    for k in range(p):\n",
    "         L=np.append(L,0)\n",
    "\n",
    "    b=np.vstack((b,L)) \n",
    "    L=np.array([])\n",
    "\n",
    "for i in range (n):\n",
    "    for k in range(nbvar-(n*p)):\n",
    "         L=np.append(L,0)\n",
    "    for j in range(p):\n",
    "         L=np.append(L,[u_prim[i,j]])\n",
    "    \n",
    "    b=np.vstack((b,L))  \n",
    "    L=np.array([])\n",
    "\n",
    "\n",
    "for i in range(n):\n",
    "    L1=np.identity(p)\n",
    "    L2=np.concatenate((L1,L2),axis=1)\n",
    "L2=np.delete(L2,[-1],1)\n",
    "b=np.vstack((b,L2))\n",
    "\n",
    "\n",
    "\n",
    "# 2) generer la matrice des contraintes des bik\n",
    "L=np.identity(n*n)\n",
    "L=-1*L\n",
    "for i in range (p):\n",
    "     L1=np.zeros(n*n)\n",
    "     L =np.vstack((L,L1))\n",
    "\n",
    "\n",
    "# 2) concatener la matrice des contraintes des bik et des xj dans la matrice b\n",
    "\n",
    "b=np.concatenate((L,b),axis=1)\n",
    "\n",
    "# 3) generer la matrice des contraintes des rk\n",
    "L2=np.zeros((1,n))\n",
    "for i in range(n):\n",
    "    L1=np.identity(n)\n",
    "    L2=np.vstack((L1,L2))\n",
    "L2=np.delete(L2,[-1],0)\n",
    "L1=np.zeros((p,n))\n",
    "L2=np.vstack((L2,L1))\n",
    "  \n",
    "# 2) concatener la matrice des contraintes rk et b\n",
    "b=np.concatenate((L2,b),axis=1)\n",
    "print(b)\n"
   ]
  },
  {
   "cell_type": "code",
   "execution_count": 318,
   "metadata": {},
   "outputs": [
    {
     "name": "stdout",
     "output_type": "stream",
     "text": [
      "[0, 0, 0, 0, 0, 0, 0, 0, 0, 1, 1, 1, 1, 1, 1]\n"
     ]
    }
   ],
   "source": [
    "# Second membre\n",
    "S= [0 for i in range (9)]\n",
    "for i in range(p):\n",
    "    S.append(1)\n",
    "\n",
    "print(S)"
   ]
  },
  {
   "cell_type": "code",
   "execution_count": 319,
   "metadata": {},
   "outputs": [
    {
     "name": "stdout",
     "output_type": "stream",
     "text": [
      "[1, 2, 3, -1, -1, -1, -1, -1, -1, -1, -1, -1, 0, 0, 0, 0, 0, 0, 0, 0, 0, 0, 0, 0, 0, 0, 0, 0, 0, 0]\n"
     ]
    }
   ],
   "source": [
    "# Coefficients de la fonction objectif\n",
    "# generer les Coefficients des r\n",
    "a=[]\n",
    "for i in range(1,n+1):\n",
    "    a.append(i*w1[i-1])\n",
    "# generer les Coefficients des bik\n",
    "for i in range(n):\n",
    "    for j in range(n):\n",
    "        a.append(-1*w1[j])\n",
    "# generer les Coefficients des x\n",
    "for i in range (p*n):\n",
    "    a.append(0)\n",
    "print(a)\n"
   ]
  },
  {
   "cell_type": "code",
   "execution_count": 320,
   "metadata": {},
   "outputs": [],
   "source": [
    "# Creer les models de la fonction objectif\n",
    "m = Model(\"Partie2\") "
   ]
  },
  {
   "cell_type": "code",
   "execution_count": 321,
   "metadata": {},
   "outputs": [
    {
     "name": "stdout",
     "output_type": "stream",
     "text": [
      "[<gurobi.Var r1>, <gurobi.Var r2>, <gurobi.Var r3>, <gurobi.Var b11>, <gurobi.Var b12>, <gurobi.Var b13>, <gurobi.Var b21>, <gurobi.Var b22>, <gurobi.Var b23>, <gurobi.Var b31>, <gurobi.Var b32>, <gurobi.Var b33>, <gurobi.Var x11>, <gurobi.Var x12>, <gurobi.Var x13>, <gurobi.Var x14>, <gurobi.Var x15>, <gurobi.Var x16>, <gurobi.Var x21>, <gurobi.Var x22>, <gurobi.Var x23>, <gurobi.Var x24>, <gurobi.Var x25>, <gurobi.Var x26>, <gurobi.Var x31>, <gurobi.Var x32>, <gurobi.Var x33>, <gurobi.Var x34>, <gurobi.Var x35>, <gurobi.Var x36>]\n"
     ]
    }
   ],
   "source": [
    "# declaration des variables de decisions\n",
    "x = []\n",
    "for i in range(n):\n",
    "    x.append(m.addVar(vtype=GRB.CONTINUOUS, lb=0, name=\"r%d\" % (i+1)))\n",
    "for i in range (n):\n",
    "    for j in range(n):\n",
    "        x.append(m.addVar(vtype=GRB.CONTINUOUS, lb=0, name=\"b%d%d\" % ((i+1,(j+1)))))\n",
    "for i in range (n):\n",
    "    for j in range(p):\n",
    "        x.append(m.addVar(vtype=GRB.BINARY, lb=0, name=\"x%d%d\" % ((i+1,(j+1)))))\n",
    "\n",
    "# maj du modele pour integrer les nouvelles variables\n",
    "m.update()\n",
    "print(x)"
   ]
  },
  {
   "cell_type": "code",
   "execution_count": 322,
   "metadata": {},
   "outputs": [],
   "source": [
    "# definition de l'objectif\n",
    "obj = LinExpr();\n",
    "obj =0\n",
    "for j in range(nbvar):\n",
    "    obj += a[j] * x[j]\n",
    "\n",
    "m.setObjective(obj,GRB.MAXIMIZE)"
   ]
  },
  {
   "cell_type": "code",
   "execution_count": 323,
   "metadata": {},
   "outputs": [],
   "source": [
    "\n",
    "# Definition des contraintes\n",
    "lignes = range(nbcont)\n",
    "colonnes = range(nbvar)\n",
    "\n",
    "for i in lignes:\n",
    "    m.addConstr(quicksum(b[i][j]*x[j] for j in colonnes) <= S[i], \"Contrainte%d\" % i)\n",
    "\n"
   ]
  },
  {
   "cell_type": "code",
   "execution_count": 324,
   "metadata": {},
   "outputs": [
    {
     "name": "stdout",
     "output_type": "stream",
     "text": [
      "Gurobi Optimizer version 10.0.0 build v10.0.0rc2 (mac64[x86])\n",
      "\n",
      "CPU model: Intel(R) Core(TM) i5-7360U CPU @ 2.30GHz\n",
      "Thread count: 2 physical cores, 4 logical processors, using up to 4 threads\n",
      "\n",
      "Optimize a model with 15 rows, 30 columns and 90 nonzeros\n",
      "Model fingerprint: 0xb0cb6945\n",
      "Variable types: 12 continuous, 18 integer (18 binary)\n",
      "Coefficient statistics:\n",
      "  Matrix range     [1e+00, 3e+02]\n",
      "  Objective range  [1e+00, 3e+00]\n",
      "  Bounds range     [1e+00, 1e+00]\n",
      "  RHS range        [1e+00, 1e+00]\n",
      "Found heuristic solution: objective -0.0000000\n",
      "Presolve time: 0.00s\n",
      "Presolved: 15 rows, 30 columns, 90 nonzeros\n",
      "Variable types: 12 continuous, 18 integer (18 binary)\n",
      "\n",
      "Root relaxation: objective 2.000000e+03, 21 iterations, 0.00 seconds (0.00 work units)\n",
      "\n",
      "    Nodes    |    Current Node    |     Objective Bounds      |     Work\n",
      " Expl Unexpl |  Obj  Depth IntInf | Incumbent    BestBd   Gap | It/Node Time\n",
      "\n",
      "     0     0 2000.00000    0    4   -0.00000 2000.00000      -     -    0s\n",
      "H    0     0                    1985.0000000 2000.00000  0.76%     -    0s\n",
      "     0     0 2000.00000    0    4 1985.00000 2000.00000  0.76%     -    0s\n",
      "     0     0 2000.00000    0    5 1985.00000 2000.00000  0.76%     -    0s\n",
      "     0     0 2000.00000    0    6 1985.00000 2000.00000  0.76%     -    0s\n",
      "     0     0 2000.00000    0    3 1985.00000 2000.00000  0.76%     -    0s\n",
      "     0     0 2000.00000    0    6 1985.00000 2000.00000  0.76%     -    0s\n",
      "     0     0 2000.00000    0    7 1985.00000 2000.00000  0.76%     -    0s\n",
      "     0     0 1998.91304    0    7 1985.00000 1998.91304  0.70%     -    0s\n",
      "     0     0 1991.22257    0    8 1985.00000 1991.22257  0.31%     -    0s\n",
      "     0     0 1987.50000    0    4 1985.00000 1987.50000  0.13%     -    0s\n",
      "     0     0 1987.50000    0    4 1985.00000 1987.50000  0.13%     -    0s\n",
      "     0     0 1987.50000    0   10 1985.00000 1987.50000  0.13%     -    0s\n",
      "     0     0 1987.50000    0    4 1985.00000 1987.50000  0.13%     -    0s\n",
      "     0     0 infeasible    0      1985.00000 1985.00000  0.00%     -    0s\n",
      "\n",
      "Cutting planes:\n",
      "  Cover: 2\n",
      "  Clique: 3\n",
      "  MIR: 5\n",
      "  StrongCG: 3\n",
      "\n",
      "Explored 1 nodes (87 simplex iterations) in 0.08 seconds (0.00 work units)\n",
      "Thread count was 4 (of 4 available processors)\n",
      "\n",
      "Solution count 2: 1985 -0 \n",
      "\n",
      "Optimal solution found (tolerance 1.00e-04)\n",
      "Best objective 1.985000000000e+03, best bound 1.985000000000e+03, gap 0.0000%\n",
      "\n",
      "Solution optimale:\n",
      "r1 = 325.0\n",
      "r2 = 335.0\n",
      "r3 = 340.0\n",
      "b11 = 0.0\n",
      "b12 = 0.0\n",
      "b13 = 5.0\n",
      "b21 = 0.0\n",
      "b22 = 0.0\n",
      "b23 = 0.0\n",
      "b31 = 0.0\n",
      "b32 = 10.0\n",
      "b33 = 15.0\n",
      "x11 = 0.0\n",
      "x12 = 0.0\n",
      "x13 = 1.0\n",
      "x14 = 0.0\n",
      "x15 = 1.0\n",
      "x16 = 1.0\n",
      "x21 = 0.0\n",
      "x22 = 1.0\n",
      "x23 = 0.0\n",
      "x24 = 1.0\n",
      "x25 = 0.0\n",
      "x26 = 0.0\n",
      "x31 = 1.0\n",
      "x32 = 0.0\n",
      "x33 = 0.0\n",
      "x34 = 0.0\n",
      "x35 = 0.0\n",
      "x36 = 0.0\n",
      "\n",
      "Valeur de la fonction objectif : 1985.0\n"
     ]
    }
   ],
   "source": [
    "# Resolution\n",
    "m.optimize()\n",
    "\n",
    "\n",
    "print(\"\")                \n",
    "print('Solution optimale:')\n",
    "mvars = m.getVars()\n",
    "names = m.getAttr('VarName', mvars)\n",
    "values = m.getAttr('X', mvars)\n",
    "result = dict(zip(names, values))\n",
    "for key in result:\n",
    "    print(key,'=',result[key])\n",
    "print(\"\")\n",
    "print('Valeur de la fonction objectif :', m.objVal)\n"
   ]
  },
  {
   "cell_type": "markdown",
   "metadata": {},
   "source": []
  },
  {
   "cell_type": "code",
   "execution_count": null,
   "metadata": {},
   "outputs": [],
   "source": []
  }
 ],
 "metadata": {
  "kernelspec": {
   "display_name": "Python 3.11.0 64-bit",
   "language": "python",
   "name": "python3"
  },
  "language_info": {
   "codemirror_mode": {
    "name": "ipython",
    "version": 3
   },
   "file_extension": ".py",
   "mimetype": "text/x-python",
   "name": "python",
   "nbconvert_exporter": "python",
   "pygments_lexer": "ipython3",
   "version": "3.11.0"
  },
  "orig_nbformat": 4,
  "vscode": {
   "interpreter": {
    "hash": "aee8b7b246df8f9039afb4144a1f6fd8d2ca17a180786b69acc140d282b71a49"
   }
  }
 },
 "nbformat": 4,
 "nbformat_minor": 2
}
