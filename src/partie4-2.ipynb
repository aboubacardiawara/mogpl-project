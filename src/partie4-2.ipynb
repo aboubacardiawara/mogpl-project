{
 "cells": [
  {
   "cell_type": "code",
   "execution_count": 42,
   "metadata": {},
   "outputs": [],
   "source": [
    "from gurobipy import *\n",
    "import numpy as np\n",
    "import math as mt"
   ]
  },
  {
   "cell_type": "code",
   "execution_count": 43,
   "metadata": {},
   "outputs": [],
   "source": [
    "nb_var = 12\n",
    "nb_cont = 7\n",
    "n = 2\n",
    "p = 12"
   ]
  },
  {
   "cell_type": "code",
   "execution_count": 44,
   "metadata": {},
   "outputs": [
    {
     "name": "stdout",
     "output_type": "stream",
     "text": [
      "[[ -5 -10  -2  -4  -1  -4  -3  -1  -1  -3  -1  -1]\n",
      " [ -3  -4  -6  -2  -3  -6  -1  -2  -4  -5  -1  -1]]\n"
     ]
    }
   ],
   "source": [
    "# Matrice utilite\n",
    "matrice_utilite = np.array (\n",
    "                [\n",
    "                        [-5, -10, -2, -4, -1, -4, -3, -1, -1, -3, -1, -1],\n",
    "                        [-3, -4, -6, -2, -3, -6, -1, -2, -4, -5, -1, -1]\n",
    "                ]\n",
    "        )\n",
    "\n",
    "print(matrice_utilite)\n"
   ]
  },
  {
   "cell_type": "code",
   "execution_count": 45,
   "metadata": {},
   "outputs": [
    {
     "name": "stdout",
     "output_type": "stream",
     "text": [
      "[0, 0, 0, 0, 1, 0, 0, 0, 0, 0, -1]\n"
     ]
    }
   ],
   "source": [
    "# second membres\n",
    "second_membre_1 = [0 for i in range(4)]\n",
    "\n",
    "second_membre_existence_chemin =[0 for i in range(nb_cont)]\n",
    "second_membre_existence_chemin[0] = 1\n",
    "second_membre_existence_chemin[-1] = -1\n",
    "\n",
    "second_membre = second_membre_1 + second_membre_existence_chemin\n",
    "\n",
    "print(second_membre)"
   ]
  },
  {
   "cell_type": "code",
   "execution_count": 46,
   "metadata": {},
   "outputs": [
    {
     "name": "stdout",
     "output_type": "stream",
     "text": [
      "[1, 1]\n"
     ]
    }
   ],
   "source": [
    "# vecteur w\n",
    "w = [2, 1]\n",
    "\n",
    "# creer le vecteur w'\n",
    "w_prime = [(w[k] - w[k+1]) for k in range(len(w)-1)]\n",
    "w_prime.append(w[-1])\n",
    "print(w_prime)"
   ]
  },
  {
   "cell_type": "code",
   "execution_count": 47,
   "metadata": {},
   "outputs": [
    {
     "name": "stdout",
     "output_type": "stream",
     "text": [
      "[[1 0]\n",
      " [1 0]\n",
      " [0 1]\n",
      " [0 1]]\n"
     ]
    }
   ],
   "source": [
    "## les variables rk\n",
    "coef_rk = []\n",
    "for k in range(n):\n",
    "        for i in range(n):\n",
    "                coef_rk.append([])\n",
    "                for j in range(n):\n",
    "                        coef_rk[-1].append(0)\n",
    "                coef_rk[-1][k] = 1\n",
    "coef_rk = np.array(coef_rk)\n",
    "print(coef_rk)"
   ]
  },
  {
   "cell_type": "code",
   "execution_count": 48,
   "metadata": {},
   "outputs": [
    {
     "name": "stdout",
     "output_type": "stream",
     "text": [
      "[[-1. -0. -0. -0.]\n",
      " [-0. -1. -0. -0.]\n",
      " [-0. -0. -1. -0.]\n",
      " [-0. -0. -0. -1.]]\n"
     ]
    }
   ],
   "source": [
    "## les variables bik\n",
    "coef_bik = -1 * np.identity(n**2)\n",
    "print(coef_bik)"
   ]
  },
  {
   "cell_type": "code",
   "execution_count": 53,
   "metadata": {},
   "outputs": [
    {
     "name": "stdout",
     "output_type": "stream",
     "text": [
      "[[ 5 10  2  4  1  4  3  1  1  3  1  1]\n",
      " [ 3  4  6  2  3  6  1  2  4  5  1  1]\n",
      " [ 5 10  2  4  1  4  3  1  1  3  1  1]\n",
      " [ 3  4  6  2  3  6  1  2  4  5  1  1]]\n"
     ]
    }
   ],
   "source": [
    "## les variables x\n",
    "coef_xi = []\n",
    "for k in range(n**2):\n",
    "        coef_xi.append([])\n",
    "        for i in range(p):\n",
    "                coef_xi[-1].append(-u[k%n][i])\n",
    "coef_xi = np.array(coef_xi)\n",
    "print(coef_xi)"
   ]
  },
  {
   "cell_type": "code",
   "execution_count": 57,
   "metadata": {},
   "outputs": [
    {
     "name": "stdout",
     "output_type": "stream",
     "text": [
      "[[ 1  1  1  0  0  0  0  0  0  0  0  0]\n",
      " [-1  0  0  1  1  1  0  0  0  0  0  0]\n",
      " [ 0 -1  0 -1  0  0  1  1 -1  0  0  0]\n",
      " [ 0  0 -1  0 -1  0  0  0  1  1  0  0]\n",
      " [ 0  0  0  0  0 -1 -1  0  0  0  1  0]\n",
      " [ 0  0  0  0  0  0  0 -1  0 -1  0  1]\n",
      " [ 0  0  0  0  0  0  0  0  0  0 -1 -1]]\n"
     ]
    }
   ],
   "source": [
    "# contrainte de l'existence d'un chemin\n",
    "existe_chemin = np.array([\n",
    "                [1, 1, 1, 0, 0, 0, 0, 0, 0, 0, 0, 0],\n",
    "                [-1, 0, 0, 1, 1, 1, 0, 0, 0, 0, 0, 0],\n",
    "                [0, -1, 0, -1, 0, 0, 1, 1, -1, 0, 0, 0],\n",
    "                [0, 0, -1, 0, -1, 0, 0, 0, 1, 1, 0, 0],\n",
    "                [0, 0, 0, 0, 0, -1, -1, 0, 0, 0, 1, 0],\n",
    "                [0, 0, 0, 0, 0, 0, 0, -1, 0, -1, 0, 1],\n",
    "                [0, 0, 0, 0, 0, 0, 0, 0, 0, 0, -1, -1]\n",
    "        ])\n",
    "\n",
    "print(existe_chemin)"
   ]
  },
  {
   "cell_type": "code",
   "execution_count": 62,
   "metadata": {},
   "outputs": [
    {
     "name": "stdout",
     "output_type": "stream",
     "text": [
      "[[ 1.  0. -1. -0. -0. -0.  5. 10.  2.  4.  1.  4.  3.  1.  1.  3.  1.  1.]\n",
      " [ 1.  0. -0. -1. -0. -0.  3.  4.  6.  2.  3.  6.  1.  2.  4.  5.  1.  1.]\n",
      " [ 0.  1. -0. -0. -1. -0.  5. 10.  2.  4.  1.  4.  3.  1.  1.  3.  1.  1.]\n",
      " [ 0.  1. -0. -0. -0. -1.  3.  4.  6.  2.  3.  6.  1.  2.  4.  5.  1.  1.]]\n"
     ]
    }
   ],
   "source": [
    "# concatenation des matrices rk, bik, xk \n",
    "result_concat = np.concatenate(\n",
    "        (coef_rk, np.concatenate((coef_bik, coef_xi),axis=1)),\n",
    "        axis=1)\n",
    "print(result_concat)"
   ]
  },
  {
   "cell_type": "code",
   "execution_count": 69,
   "metadata": {},
   "outputs": [
    {
     "name": "stdout",
     "output_type": "stream",
     "text": [
      "[[ 1.  0. -1. -0. -0. -0.  5. 10.  2.  4.  1.  4.  3.  1.  1.  3.  1.  1.]\n",
      " [ 1.  0. -0. -1. -0. -0.  3.  4.  6.  2.  3.  6.  1.  2.  4.  5.  1.  1.]\n",
      " [ 0.  1. -0. -0. -1. -0.  5. 10.  2.  4.  1.  4.  3.  1.  1.  3.  1.  1.]\n",
      " [ 0.  1. -0. -0. -0. -1.  3.  4.  6.  2.  3.  6.  1.  2.  4.  5.  1.  1.]\n",
      " [ 0.  0.  0.  0.  0.  0.  1.  1.  1.  0.  0.  0.  0.  0.  0.  0.  0.  0.]\n",
      " [ 0.  0.  0.  0.  0.  0. -1.  0.  0.  1.  1.  1.  0.  0.  0.  0.  0.  0.]\n",
      " [ 0.  0.  0.  0.  0.  0.  0. -1.  0. -1.  0.  0.  1.  1. -1.  0.  0.  0.]\n",
      " [ 0.  0.  0.  0.  0.  0.  0.  0. -1.  0. -1.  0.  0.  0.  1.  1.  0.  0.]\n",
      " [ 0.  0.  0.  0.  0.  0.  0.  0.  0.  0.  0. -1. -1.  0.  0.  0.  1.  0.]\n",
      " [ 0.  0.  0.  0.  0.  0.  0.  0.  0.  0.  0.  0.  0. -1.  0. -1.  0.  1.]\n",
      " [ 0.  0.  0.  0.  0.  0.  0.  0.  0.  0.  0.  0.  0.  0.  0.  0. -1. -1.]]\n"
     ]
    }
   ],
   "source": [
    "\n",
    "# ajout de la contrainte sur l'existence d'un chemin\n",
    "new_lines = []\n",
    "for i in range(nb_cont):\n",
    "        new_lines.append([])\n",
    "        for j in range(6):\n",
    "                new_lines[-1].append(0)\n",
    "new_lines = np.concatenate((new_lines, existe_chemin), axis=1)\n",
    "constrainte = np.vstack([result_concat, new_lines])\n",
    "print(constrainte)"
   ]
  },
  {
   "cell_type": "code",
   "execution_count": 71,
   "metadata": {},
   "outputs": [
    {
     "name": "stdout",
     "output_type": "stream",
     "text": [
      "[ 1  2 -1 -1 -1 -1  0  0  0  0  0  0  0  0  0  0  0  0]\n"
     ]
    }
   ],
   "source": [
    "## coefficient fonction objectif\n",
    "c = [(i+1) * w_prime[i] for i in range(n)] # coef des r_k\n",
    "# coef des b_ik\n",
    "for i in range(n) :\n",
    "    for j in range(n) :\n",
    "        c.append(-1*w_prime[i])\n",
    "\n",
    "c += [0 for i in range(p)] # ajout des coef de x\n",
    "c = np.array(c)\n",
    "print(c)"
   ]
  },
  {
   "cell_type": "code",
   "execution_count": 74,
   "metadata": {},
   "outputs": [],
   "source": [
    "# Creer les models de la fonction objectif\n",
    "m = Model(\"Question 4.2\")"
   ]
  },
  {
   "cell_type": "code",
   "execution_count": 76,
   "metadata": {},
   "outputs": [
    {
     "name": "stdout",
     "output_type": "stream",
     "text": [
      "18\n"
     ]
    }
   ],
   "source": [
    "vars = ['ab', 'ac', 'ad', 'bc', 'bd', 'be', 'ce', 'cf', 'dc', 'df', 'eg', 'fg']\n",
    "assert len(vars) == 12\n",
    "\n",
    "x = []\n",
    "for i in range(n):\n",
    "            x.append(m.addVar(vtype=GRB.CONTINUOUS, lb=0, name=\"r%d\" % (i+1)))\n",
    "for i in range (n):\n",
    "    for j in range(n):\n",
    "        x.append(m.addVar(vtype=GRB.CONTINUOUS, lb=0, name=\"b%d%d\" % ((j+1,(i+1)))))\n",
    "\n",
    "for node in vars:\n",
    "    x.append(m.addVar(vtype=GRB.CONTINUOUS, lb=0, name=\"x_%s\" % node))\n",
    "    \n",
    "# maj du modele pour integrer les nouvelles variables\n",
    "m.update()\n",
    "print(x)"
   ]
  }
 ],
 "metadata": {
  "kernelspec": {
   "display_name": "Python 3.11.0 64-bit",
   "language": "python",
   "name": "python3"
  },
  "language_info": {
   "codemirror_mode": {
    "name": "ipython",
    "version": 3
   },
   "file_extension": ".py",
   "mimetype": "text/x-python",
   "name": "python",
   "nbconvert_exporter": "python",
   "pygments_lexer": "ipython3",
   "version": "3.9.7"
  },
  "orig_nbformat": 4,
  "vscode": {
   "interpreter": {
    "hash": "aee8b7b246df8f9039afb4144a1f6fd8d2ca17a180786b69acc140d282b71a49"
   }
  }
 },
 "nbformat": 4,
 "nbformat_minor": 2
}
