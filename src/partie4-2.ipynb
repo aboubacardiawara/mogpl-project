{
 "cells": [
  {
   "cell_type": "code",
   "execution_count": 175,
   "metadata": {},
   "outputs": [],
   "source": [
    "from gurobipy import *\n",
    "import numpy as np\n",
    "import math as mt"
   ]
  },
  {
   "cell_type": "code",
   "execution_count": 176,
   "metadata": {},
   "outputs": [],
   "source": [
    "nb_var = 12\n",
    "nb_cont = 7\n",
    "n = 2\n",
    "p = 12"
   ]
  },
  {
   "cell_type": "code",
   "execution_count": 177,
   "metadata": {},
   "outputs": [
    {
     "name": "stdout",
     "output_type": "stream",
     "text": [
      "[[ -5 -10  -2  -4  -1  -4  -3  -1  -1  -3  -1  -1]\n",
      " [ -3  -4  -6  -2  -3  -6  -1  -2  -4  -5  -1  -1]]\n"
     ]
    }
   ],
   "source": [
    "# Matrice utilite\n",
    "matrice_utilite = np.array (\n",
    "                [\n",
    "                        [-5, -10, -2, -4, -1, -4, -3, -1, -1, -3, -1, -1],\n",
    "                        [-3, -4, -6, -2, -3, -6, -1, -2, -4, -5, -1, -1]\n",
    "                ]\n",
    "        )\n",
    "\n",
    "print(matrice_utilite)\n"
   ]
  },
  {
   "cell_type": "code",
   "execution_count": 179,
   "metadata": {},
   "outputs": [
    {
     "name": "stdout",
     "output_type": "stream",
     "text": [
      "[1, 1]\n"
     ]
    }
   ],
   "source": [
    "# vecteur w\n",
    "w = [2, 1]\n",
    "\n",
    "# creer le vecteur w'\n",
    "w_prime = [(w[k] - w[k+1]) for k in range(len(w)-1)]\n",
    "w_prime.append(w[-1])\n",
    "print(w_prime)"
   ]
  },
  {
   "cell_type": "code",
   "execution_count": 180,
   "metadata": {},
   "outputs": [
    {
     "name": "stdout",
     "output_type": "stream",
     "text": [
      "[[1 0]\n",
      " [1 0]\n",
      " [0 1]\n",
      " [0 1]]\n"
     ]
    }
   ],
   "source": [
    "## les variables rk\n",
    "coef_rk = []\n",
    "for k in range(n):\n",
    "        for i in range(n):\n",
    "                coef_rk.append([])\n",
    "                for j in range(n):\n",
    "                        coef_rk[-1].append(0)\n",
    "                coef_rk[-1][k] = 1\n",
    "coef_rk = np.array(coef_rk)\n",
    "print(coef_rk)"
   ]
  },
  {
   "cell_type": "code",
   "execution_count": 181,
   "metadata": {},
   "outputs": [
    {
     "name": "stdout",
     "output_type": "stream",
     "text": [
      "[[-1. -0. -0. -0.]\n",
      " [-0. -1. -0. -0.]\n",
      " [-0. -0. -1. -0.]\n",
      " [-0. -0. -0. -1.]]\n"
     ]
    }
   ],
   "source": [
    "## les variables bik\n",
    "coef_bik = -1 * np.identity(n**2)\n",
    "print(coef_bik)"
   ]
  },
  {
   "cell_type": "code",
   "execution_count": 182,
   "metadata": {},
   "outputs": [
    {
     "name": "stdout",
     "output_type": "stream",
     "text": [
      "[[ 5 10  2  4  1  4  3  1  1  3  1  1]\n",
      " [ 3  4  6  2  3  6  1  2  4  5  1  1]\n",
      " [ 5 10  2  4  1  4  3  1  1  3  1  1]\n",
      " [ 3  4  6  2  3  6  1  2  4  5  1  1]]\n"
     ]
    }
   ],
   "source": [
    "## les variables x\n",
    "coef_xi = []\n",
    "for k in range(n**2):\n",
    "        coef_xi.append([])\n",
    "        for i in range(p):\n",
    "                coef_xi[-1].append(-u[k%n][i])\n",
    "coef_xi = np.array(coef_xi)\n",
    "print(coef_xi)"
   ]
  },
  {
   "cell_type": "code",
   "execution_count": 183,
   "metadata": {},
   "outputs": [
    {
     "name": "stdout",
     "output_type": "stream",
     "text": [
      "[[ 1  1  1  0  0  0  0  0  0  0  0  0]\n",
      " [-1  0  0  1  1  1  0  0  0  0  0  0]\n",
      " [ 0 -1  0 -1  0  0  1  1 -1  0  0  0]\n",
      " [ 0  0 -1  0 -1  0  0  0  1  1  0  0]\n",
      " [ 0  0  0  0  0 -1 -1  0  0  0  1  0]\n",
      " [ 0  0  0  0  0  0  0 -1  0 -1  0  1]\n",
      " [ 0  0  0  0  0  0  0  0  0  0 -1 -1]]\n"
     ]
    }
   ],
   "source": [
    "# contrainte de l'existence d'un chemin\n",
    "existe_chemin = np.array([\n",
    "                [1, 1, 1, 0, 0, 0, 0, 0, 0, 0, 0, 0],\n",
    "                [-1, 0, 0, 1, 1, 1, 0, 0, 0, 0, 0, 0],\n",
    "                [0, -1, 0, -1, 0, 0, 1, 1, -1, 0, 0, 0],\n",
    "                [0, 0, -1, 0, -1, 0, 0, 0, 1, 1, 0, 0],\n",
    "                [0, 0, 0, 0, 0, -1, -1, 0, 0, 0, 1, 0],\n",
    "                [0, 0, 0, 0, 0, 0, 0, -1, 0, -1, 0, 1],\n",
    "                [0, 0, 0, 0, 0, 0, 0, 0, 0, 0, -1, -1]\n",
    "        ])\n",
    "\n",
    "print(existe_chemin)"
   ]
  },
  {
   "cell_type": "code",
   "execution_count": 184,
   "metadata": {},
   "outputs": [
    {
     "name": "stdout",
     "output_type": "stream",
     "text": [
      "[[ 1.  0. -1. -0. -0. -0.  5. 10.  2.  4.  1.  4.  3.  1.  1.  3.  1.  1.]\n",
      " [ 1.  0. -0. -1. -0. -0.  3.  4.  6.  2.  3.  6.  1.  2.  4.  5.  1.  1.]\n",
      " [ 0.  1. -0. -0. -1. -0.  5. 10.  2.  4.  1.  4.  3.  1.  1.  3.  1.  1.]\n",
      " [ 0.  1. -0. -0. -0. -1.  3.  4.  6.  2.  3.  6.  1.  2.  4.  5.  1.  1.]]\n"
     ]
    }
   ],
   "source": [
    "# concatenation des matrices rk, bik, xk \n",
    "result_concat = np.concatenate(\n",
    "        (coef_rk, np.concatenate((coef_bik, coef_xi),axis=1)),\n",
    "        axis=1)\n",
    "print(result_concat)"
   ]
  },
  {
   "cell_type": "code",
   "execution_count": 193,
   "metadata": {},
   "outputs": [
    {
     "name": "stdout",
     "output_type": "stream",
     "text": [
      "[[ 1.  0. -1. -0. -0. -0.  5. 10.  2.  4.  1.  4.  3.  1.  1.  3.  1.  1.]\n",
      " [ 1.  0. -0. -1. -0. -0.  3.  4.  6.  2.  3.  6.  1.  2.  4.  5.  1.  1.]\n",
      " [ 0.  1. -0. -0. -1. -0.  5. 10.  2.  4.  1.  4.  3.  1.  1.  3.  1.  1.]\n",
      " [ 0.  1. -0. -0. -0. -1.  3.  4.  6.  2.  3.  6.  1.  2.  4.  5.  1.  1.]\n",
      " [ 0.  0.  0.  0.  0.  0.  1.  1.  1.  0.  0.  0.  0.  0.  0.  0.  0.  0.]\n",
      " [ 0.  0.  0.  0.  0.  0. -1.  0.  0.  1.  1.  1.  0.  0.  0.  0.  0.  0.]\n",
      " [ 0.  0.  0.  0.  0.  0.  0. -1.  0. -1.  0.  0.  1.  1. -1.  0.  0.  0.]\n",
      " [ 0.  0.  0.  0.  0.  0.  0.  0. -1.  0. -1.  0.  0.  0.  1.  1.  0.  0.]\n",
      " [ 0.  0.  0.  0.  0.  0.  0.  0.  0.  0.  0. -1. -1.  0.  0.  0.  1.  0.]\n",
      " [ 0.  0.  0.  0.  0.  0.  0.  0.  0.  0.  0.  0.  0. -1.  0. -1.  0.  1.]\n",
      " [ 0.  0.  0.  0.  0.  0.  0.  0.  0.  0.  0.  0.  0.  0.  0.  0. -1. -1.]]\n"
     ]
    }
   ],
   "source": [
    "\n",
    "# ajout de la contrainte sur l'existence d'un chemin\n",
    "new_lines = []\n",
    "for i in range(nb_cont):\n",
    "        new_lines.append([])\n",
    "        for j in range(6):\n",
    "                new_lines[-1].append(0)\n",
    "new_lines = np.concatenate((new_lines, existe_chemin), axis=1)\n",
    "constrainte = np.vstack([result_concat, new_lines])\n",
    "print(constrainte)"
   ]
  },
  {
   "cell_type": "code",
   "execution_count": 194,
   "metadata": {},
   "outputs": [
    {
     "name": "stdout",
     "output_type": "stream",
     "text": [
      "[0, 0, 0, 0, -1, 0, 0, 0, 0, 0, 1]\n"
     ]
    }
   ],
   "source": [
    "# second membres\n",
    "second_membre_1 = [0 for i in range(4)]\n",
    "\n",
    "second_membre_existence_chemin =[0 for i in range(nb_cont)]\n",
    "second_membre_existence_chemin[0] = 1\n",
    "second_membre_existence_chemin[-1] = -1\n",
    "\n",
    "second_membre = second_membre_1 + second_membre_existence_chemin\n",
    "\n",
    "print(second_membre)"
   ]
  },
  {
   "cell_type": "code",
   "execution_count": 186,
   "metadata": {},
   "outputs": [
    {
     "name": "stdout",
     "output_type": "stream",
     "text": [
      "[ 1  2 -1 -1 -1 -1  0  0  0  0  0  0  0  0  0  0  0  0]\n"
     ]
    }
   ],
   "source": [
    "## coefficient fonction objectif\n",
    "c = [(i+1) * w_prime[i] for i in range(n)] # coef des r_k\n",
    "# coef des b_ik\n",
    "for i in range(n) :\n",
    "    for j in range(n) :\n",
    "        c.append(-1*w_prime[i])\n",
    "\n",
    "c += [0 for i in range(p)] # ajout des coef de x\n",
    "c = np.array(c)\n",
    "print(c)"
   ]
  },
  {
   "cell_type": "code",
   "execution_count": 187,
   "metadata": {},
   "outputs": [],
   "source": [
    "# Creer les models de la fonction objectif\n",
    "m = Model(\"Question 4.2\")"
   ]
  },
  {
   "cell_type": "code",
   "execution_count": 188,
   "metadata": {},
   "outputs": [
    {
     "name": "stdout",
     "output_type": "stream",
     "text": [
      "[<gurobi.Var r1>, <gurobi.Var r2>, <gurobi.Var b11>, <gurobi.Var b21>, <gurobi.Var b12>, <gurobi.Var b22>, <gurobi.Var X_ab>, <gurobi.Var X_ac>, <gurobi.Var X_ad>, <gurobi.Var X_bc>, <gurobi.Var X_bd>, <gurobi.Var X_be>, <gurobi.Var X_ce>, <gurobi.Var X_cf>, <gurobi.Var X_dc>, <gurobi.Var X_df>, <gurobi.Var X_eg>, <gurobi.Var X_fg>]\n"
     ]
    }
   ],
   "source": [
    "vars = ['ab', 'ac', 'ad', 'bc', 'bd', 'be', 'ce', 'cf', 'dc', 'df', 'eg', 'fg']\n",
    "assert len(vars) == 12\n",
    "\n",
    "x = []\n",
    "for i in range(n):\n",
    "            x.append(m.addVar(vtype=GRB.CONTINUOUS, lb=0, name=\"r%d\" % (i+1)))\n",
    "for i in range (n):\n",
    "    for j in range(n):\n",
    "        x.append(m.addVar(vtype=GRB.CONTINUOUS, lb=0, name=\"b%d%d\" % ((j+1,(i+1)))))\n",
    "\n",
    "for node in vars:\n",
    "    x.append(m.addVar(vtype=GRB.CONTINUOUS, lb=0, name=\"X_%s\" % node))\n",
    "    \n",
    "# maj du modele pour integrer les nouvelles variables\n",
    "m.update()\n",
    "print(x)"
   ]
  },
  {
   "cell_type": "code",
   "execution_count": 189,
   "metadata": {},
   "outputs": [],
   "source": [
    "# definition de l'objectif\n",
    "obj = LinExpr();\n",
    "obj =0\n",
    "for j in range(nb_cont):\n",
    "    obj += c[j] * x[j]\n",
    "\n",
    "m.setObjective(obj,GRB.MINIMIZE)"
   ]
  },
  {
   "cell_type": "code",
   "execution_count": 190,
   "metadata": {},
   "outputs": [],
   "source": [
    "# Definition des contraintes\n",
    "# Definition des contraintes\n",
    "for i in range(4):\n",
    "    m.addConstr(quicksum(constrainte[i][j]*x[j] for j in colonnes) <= second_membre[i], \"Contrainte%d\" % i)\n",
    "    \n",
    "for i in range(4, 11):\n",
    "        m.addConstr(quicksum(constrainte[i][j]*x[j] for j in colonnes) == second_membre[i], \"Contrainte%d\" % i)"
   ]
  },
  {
   "cell_type": "code",
   "execution_count": 191,
   "metadata": {},
   "outputs": [
    {
     "name": "stdout",
     "output_type": "stream",
     "text": [
      "Gurobi Optimizer version 10.0.0 build v10.0.0rc2 (linux64)\n",
      "\n",
      "CPU model: Intel(R) Core(TM) i7-10510U CPU @ 1.80GHz, instruction set [SSE2|AVX|AVX2]\n",
      "Thread count: 8 physical cores, 8 logical processors, using up to 8 threads\n",
      "\n",
      "Optimize a model with 11 rows, 18 columns and 44 nonzeros\n",
      "Model fingerprint: 0xc03c20a2\n",
      "Coefficient statistics:\n",
      "  Matrix range     [1e+00, 1e+01]\n",
      "  Objective range  [1e+00, 2e+00]\n",
      "  Bounds range     [0e+00, 0e+00]\n",
      "  RHS range        [1e+00, 1e+00]\n",
      "Presolve removed 1 rows and 0 columns\n",
      "Presolve time: 0.04s\n",
      "\n",
      "Solved in 0 iterations and 0.05 seconds (0.00 work units)\n",
      "Infeasible or unbounded model\n",
      "\n",
      "Solution optimale:\n"
     ]
    },
    {
     "ename": "GurobiError",
     "evalue": "Unable to retrieve attribute 'X'",
     "output_type": "error",
     "traceback": [
      "\u001b[0;31m---------------------------------------------------------------------------\u001b[0m",
      "\u001b[0;31mGurobiError\u001b[0m                               Traceback (most recent call last)",
      "\u001b[0;32m<ipython-input-191-cba37681a7db>\u001b[0m in \u001b[0;36m<module>\u001b[0;34m\u001b[0m\n\u001b[1;32m      7\u001b[0m \u001b[0mmvars\u001b[0m \u001b[0;34m=\u001b[0m \u001b[0mm\u001b[0m\u001b[0;34m.\u001b[0m\u001b[0mgetVars\u001b[0m\u001b[0;34m(\u001b[0m\u001b[0;34m)\u001b[0m\u001b[0;34m\u001b[0m\u001b[0;34m\u001b[0m\u001b[0m\n\u001b[1;32m      8\u001b[0m \u001b[0mnames\u001b[0m \u001b[0;34m=\u001b[0m \u001b[0mm\u001b[0m\u001b[0;34m.\u001b[0m\u001b[0mgetAttr\u001b[0m\u001b[0;34m(\u001b[0m\u001b[0;34m'VarName'\u001b[0m\u001b[0;34m,\u001b[0m \u001b[0mmvars\u001b[0m\u001b[0;34m)\u001b[0m\u001b[0;34m\u001b[0m\u001b[0;34m\u001b[0m\u001b[0m\n\u001b[0;32m----> 9\u001b[0;31m \u001b[0mvalues\u001b[0m \u001b[0;34m=\u001b[0m \u001b[0mm\u001b[0m\u001b[0;34m.\u001b[0m\u001b[0mgetAttr\u001b[0m\u001b[0;34m(\u001b[0m\u001b[0;34m'X'\u001b[0m\u001b[0;34m,\u001b[0m \u001b[0mmvars\u001b[0m\u001b[0;34m)\u001b[0m\u001b[0;34m\u001b[0m\u001b[0;34m\u001b[0m\u001b[0m\n\u001b[0m\u001b[1;32m     10\u001b[0m \u001b[0mresult\u001b[0m \u001b[0;34m=\u001b[0m \u001b[0mdict\u001b[0m\u001b[0;34m(\u001b[0m\u001b[0mzip\u001b[0m\u001b[0;34m(\u001b[0m\u001b[0mnames\u001b[0m\u001b[0;34m,\u001b[0m \u001b[0mvalues\u001b[0m\u001b[0;34m)\u001b[0m\u001b[0;34m)\u001b[0m\u001b[0;34m\u001b[0m\u001b[0;34m\u001b[0m\u001b[0m\n\u001b[1;32m     11\u001b[0m \u001b[0;32mfor\u001b[0m \u001b[0mkey\u001b[0m \u001b[0;32min\u001b[0m \u001b[0mresult\u001b[0m\u001b[0;34m:\u001b[0m\u001b[0;34m\u001b[0m\u001b[0;34m\u001b[0m\u001b[0m\n",
      "\u001b[0;32msrc/gurobipy/model.pxi\u001b[0m in \u001b[0;36mgurobipy.Model.getAttr\u001b[0;34m()\u001b[0m\n",
      "\u001b[0;32msrc/gurobipy/attrutil.pxi\u001b[0m in \u001b[0;36mgurobipy.__gettypedattrlist\u001b[0;34m()\u001b[0m\n",
      "\u001b[0;31mGurobiError\u001b[0m: Unable to retrieve attribute 'X'"
     ]
    }
   ],
   "source": [
    "# Resolution\n",
    "m.optimize()\n",
    "\n",
    "\n",
    "print(\"\")                \n",
    "print('Solution optimale:')\n",
    "mvars = m.getVars()\n",
    "names = m.getAttr('VarName', mvars)\n",
    "values = m.getAttr('X', mvars)\n",
    "result = dict(zip(names, values))\n",
    "for key in result:\n",
    "    print(key,'=',result[key])\n",
    "print(\"\")\n",
    "print('Valeur de la fonction objectif :', m.objVal)"
   ]
  }
 ],
 "metadata": {
  "kernelspec": {
   "display_name": "Python 3.11.0 64-bit",
   "language": "python",
   "name": "python3"
  },
  "language_info": {
   "codemirror_mode": {
    "name": "ipython",
    "version": 3
   },
   "file_extension": ".py",
   "mimetype": "text/x-python",
   "name": "python",
   "nbconvert_exporter": "python",
   "pygments_lexer": "ipython3",
   "version": "3.9.7"
  },
  "orig_nbformat": 4,
  "vscode": {
   "interpreter": {
    "hash": "aee8b7b246df8f9039afb4144a1f6fd8d2ca17a180786b69acc140d282b71a49"
   }
  }
 },
 "nbformat": 4,
 "nbformat_minor": 2
}
