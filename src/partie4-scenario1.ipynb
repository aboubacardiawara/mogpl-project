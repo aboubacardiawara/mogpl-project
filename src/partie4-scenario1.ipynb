{
 "cells": [
  {
   "cell_type": "code",
   "execution_count": 68,
   "metadata": {},
   "outputs": [],
   "source": [
    "from gurobipy import *\n",
    "import numpy as np\n",
    "import math as mt"
   ]
  },
  {
   "cell_type": "code",
   "execution_count": 69,
   "metadata": {},
   "outputs": [],
   "source": [
    "nb_var = 12\n",
    "nb_cont = 7"
   ]
  },
  {
   "cell_type": "code",
   "execution_count": 70,
   "metadata": {},
   "outputs": [
    {
     "name": "stdout",
     "output_type": "stream",
     "text": [
      "[[ 1  1  1  0  0  0  0  0  0  0  0  0]\n",
      " [-1  0  0  1  1  1  0  0  0  0  0  0]\n",
      " [ 0 -1  0 -1  0  0  1  1 -1  0  0  0]\n",
      " [ 0  0 -1  0 -1  0  0  0  1  1  0  0]\n",
      " [ 0  0  0  0  0 -1 -1  0  0  0  1  0]\n",
      " [ 0  0  0  0  0  0  0 -1  0 -1  0  1]\n",
      " [ 0  0  0  0  0  0  0  0  0  0 -1 -1]]\n"
     ]
    }
   ],
   "source": [
    "# matrice des contraintes\n",
    "contraintes = [\n",
    "        [1, 1, 1, 0, 0, 0, 0, 0, 0, 0, 0, 0],\n",
    "        [-1, 0, 0, 1, 1, 1, 0, 0, 0, 0, 0, 0],\n",
    "        [0, -1, 0, -1, 0, 0, 1, 1, -1, 0, 0, 0],\n",
    "        [0, 0, -1, 0, -1, 0, 0, 0, 1, 1, 0, 0],\n",
    "        [0, 0, 0, 0, 0, -1, -1, 0, 0, 0, 1, 0],\n",
    "        [0, 0, 0, 0, 0, 0, 0, -1, 0, -1, 0, 1],\n",
    "        [0, 0, 0, 0, 0, 0, 0, 0, 0, 0, -1, -1],\n",
    "]\n",
    "assert len(contraintes) == 7\n",
    "assert len(contraintes[0]) == 12\n",
    "\n",
    "contraintes = np.array(contraintes)\n",
    "print(contraintes)"
   ]
  },
  {
   "cell_type": "code",
   "execution_count": 71,
   "metadata": {},
   "outputs": [
    {
     "name": "stdout",
     "output_type": "stream",
     "text": [
      "[1, 0, 0, 0, 0, 0, -1]\n"
     ]
    }
   ],
   "source": [
    "# second membres\n",
    "# Second membre\n",
    "S =[1]\n",
    "S+=[0 for i in range(nb_cont-2)]\n",
    "S+=[-1]\n",
    "print(S)"
   ]
  },
  {
   "cell_type": "code",
   "execution_count": 72,
   "metadata": {},
   "outputs": [],
   "source": [
    "# Coefficient de la fonction objectif\n",
    "coef_objectif = [5, 10, 2, 4, 1, 4, 3, 1, 1, 3, 1, 1]\n",
    "assert len(coef_objectif) == 12"
   ]
  },
  {
   "cell_type": "code",
   "execution_count": 73,
   "metadata": {},
   "outputs": [],
   "source": [
    "# Creer les models de la fonction objectif\n",
    "m = Model(\"1.4-scenario1\")"
   ]
  },
  {
   "cell_type": "code",
   "execution_count": 74,
   "metadata": {},
   "outputs": [],
   "source": [
    "# declaration des variables\n",
    "vars = ['ab', 'ac', 'ad', 'bc', 'bd', 'be', 'ce', 'cf', 'dc', 'df', 'eg', 'fg']\n",
    "assert len(vars) == 12\n",
    "\n",
    "x = []\n",
    "for node in vars:\n",
    "    x.append(m.addVar(vtype=GRB.CONTINUOUS, lb=0, name=\"x_%s\" % node))\n"
   ]
  },
  {
   "cell_type": "code",
   "execution_count": 75,
   "metadata": {},
   "outputs": [
    {
     "name": "stdout",
     "output_type": "stream",
     "text": [
      "[<gurobi.Var x_ab>, <gurobi.Var x_ac>, <gurobi.Var x_ad>, <gurobi.Var x_bc>, <gurobi.Var x_bd>, <gurobi.Var x_be>, <gurobi.Var x_ce>, <gurobi.Var x_cf>, <gurobi.Var x_dc>, <gurobi.Var x_df>, <gurobi.Var x_eg>, <gurobi.Var x_fg>]\n"
     ]
    }
   ],
   "source": [
    "# maj du modele pour integrer les nouvelles variables\n",
    "m.update()\n",
    "print(x)"
   ]
  },
  {
   "cell_type": "code",
   "execution_count": 76,
   "metadata": {},
   "outputs": [],
   "source": [
    "# definition de l'objectif\n",
    "obj = LinExpr();\n",
    "obj =0\n",
    "for j in range(nb_var):\n",
    "    obj += coef_objectif[j] * x[j]\n",
    "\n",
    "m.setObjective(obj,GRB.MINIMIZE)"
   ]
  },
  {
   "cell_type": "code",
   "execution_count": 77,
   "metadata": {},
   "outputs": [],
   "source": [
    "# Definition des contraintes\n",
    "# Definition des contraintes\n",
    "lignes = range(nb_cont)\n",
    "colonnes = range(nb_var)\n",
    "for i in lignes:\n",
    "    m.addConstr(quicksum(contraintes[i][j]*x[j] for j in colonnes) == S[i], \"Contrainte%d\" % i)"
   ]
  },
  {
   "cell_type": "code",
   "execution_count": 78,
   "metadata": {},
   "outputs": [
    {
     "name": "stdout",
     "output_type": "stream",
     "text": [
      "Gurobi Optimizer version 10.0.0 build v10.0.0rc2 (linux64)\n",
      "\n",
      "CPU model: Intel(R) Core(TM) i7-10510U CPU @ 1.80GHz, instruction set [SSE2|AVX|AVX2]\n",
      "Thread count: 8 physical cores, 8 logical processors, using up to 8 threads\n",
      "\n",
      "Optimize a model with 7 rows, 12 columns and 24 nonzeros\n",
      "Model fingerprint: 0x7d9369d7\n",
      "Coefficient statistics:\n",
      "  Matrix range     [1e+00, 1e+00]\n",
      "  Objective range  [1e+00, 1e+01]\n",
      "  Bounds range     [0e+00, 0e+00]\n",
      "  RHS range        [1e+00, 1e+00]\n",
      "Presolve removed 3 rows and 3 columns\n",
      "Presolve time: 0.01s\n",
      "Presolved: 4 rows, 9 columns, 18 nonzeros\n",
      "\n",
      "Iteration    Objective       Primal Inf.    Dual Inf.      Time\n",
      "       0    3.0000000e+00   2.000000e+00   0.000000e+00      0s\n",
      "       2    5.0000000e+00   0.000000e+00   0.000000e+00      0s\n",
      "\n",
      "Solved in 2 iterations and 0.02 seconds (0.00 work units)\n",
      "Optimal objective  5.000000000e+00\n",
      "\n",
      "Solution optimale:\n",
      "x_ab = 0.0\n",
      "x_ac = 0.0\n",
      "x_ad = 1.0\n",
      "x_bc = 0.0\n",
      "x_bd = 0.0\n",
      "x_be = 0.0\n",
      "x_ce = 0.0\n",
      "x_cf = 1.0\n",
      "x_dc = 1.0\n",
      "x_df = 0.0\n",
      "x_eg = 0.0\n",
      "x_fg = 1.0\n",
      "\n",
      "Valeur de la fonction objectif : 5.0\n"
     ]
    }
   ],
   "source": [
    "# Resolution\n",
    "m.optimize()\n",
    "\n",
    "\n",
    "print(\"\")                \n",
    "print('Solution optimale:')\n",
    "mvars = m.getVars()\n",
    "names = m.getAttr('VarName', mvars)\n",
    "values = m.getAttr('X', mvars)\n",
    "result = dict(zip(names, values))\n",
    "for key in result:\n",
    "    print(key,'=',result[key])\n",
    "print(\"\")\n",
    "print('Valeur de la fonction objectif :', m.objVal)"
   ]
  }
 ],
 "metadata": {
  "interpreter": {
   "hash": "31f2aee4e71d21fbe5cf8b01ff0e069b9275f58929596ceb00d14d90e3e16cd6"
  },
  "kernelspec": {
   "display_name": "Python 3.9.7 64-bit",
   "language": "python",
   "name": "python3"
  },
  "language_info": {
   "codemirror_mode": {
    "name": "ipython",
    "version": 3
   },
   "file_extension": ".py",
   "mimetype": "text/x-python",
   "name": "python",
   "nbconvert_exporter": "python",
   "pygments_lexer": "ipython3",
   "version": "3.9.7"
  },
  "orig_nbformat": 4
 },
 "nbformat": 4,
 "nbformat_minor": 2
}
