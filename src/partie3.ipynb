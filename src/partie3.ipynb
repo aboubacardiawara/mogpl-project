{
 "cells": [
  {
   "cell_type": "code",
   "execution_count": 3,
   "metadata": {},
   "outputs": [],
   "source": [
    "from gurobipy import *\n",
    "import numpy as np\n",
    "import math as mt"
   ]
  },
  {
   "cell_type": "code",
   "execution_count": 4,
   "metadata": {},
   "outputs": [],
   "source": [
    "# Données\n",
    "service_count=2\n",
    "project_count=4\n",
    "n = 2\n",
    "p=4\n",
    "budget_limit = 100\n",
    "constraint_count=n*n +1\n",
    "variable_count= n*n + n  + p\n",
    "couts_projet = np.array([40, 50, 60, 50])"
   ]
  },
  {
   "cell_type": "code",
   "execution_count": 5,
   "metadata": {},
   "outputs": [
    {
     "name": "stdout",
     "output_type": "stream",
     "text": [
      "[[19  6 17  2]\n",
      " [ 2 11  4 18]]\n"
     ]
    }
   ],
   "source": [
    "# Matrice d'utilte\n",
    "matrice_utilite = np.array([[19, 6, 17, 2], [2, 11, 4, 18]])\n",
    "print(matrice_utilite)"
   ]
  },
  {
   "cell_type": "code",
   "execution_count": 6,
   "metadata": {},
   "outputs": [
    {
     "name": "stdout",
     "output_type": "stream",
     "text": [
      "[9, 1]\n"
     ]
    }
   ],
   "source": [
    "# vecteur w\n",
    "w = [10, 1]\n",
    "\n",
    "# creer le vecteur w'\n",
    "w_prime = [(w[k] - w[k+1]) for k in range(len(w)-1)]\n",
    "w_prime.append(w[-1])\n",
    "print(w_prime)"
   ]
  },
  {
   "cell_type": "code",
   "execution_count": 7,
   "metadata": {},
   "outputs": [],
   "source": [
    "# matrice utilite\n",
    "u = matrice_utilite"
   ]
  },
  {
   "cell_type": "code",
   "execution_count": 8,
   "metadata": {},
   "outputs": [],
   "source": [
    "# Generation de la matrice des contraintes "
   ]
  },
  {
   "cell_type": "code",
   "execution_count": 9,
   "metadata": {},
   "outputs": [
    {
     "name": "stdout",
     "output_type": "stream",
     "text": [
      "[[1 0]\n",
      " [1 0]\n",
      " [0 1]\n",
      " [0 1]]\n"
     ]
    }
   ],
   "source": [
    "## les variables rk\n",
    "coef_rk = []\n",
    "for k in range(n):\n",
    "        for i in range(n):\n",
    "                coef_rk.append([])\n",
    "                for j in range(n):\n",
    "                        coef_rk[-1].append(0)\n",
    "                coef_rk[-1][k] = 1\n",
    "coef_rk = np.array(coef_rk)\n",
    "print(coef_rk)\n"
   ]
  },
  {
   "cell_type": "code",
   "execution_count": 10,
   "metadata": {},
   "outputs": [
    {
     "name": "stdout",
     "output_type": "stream",
     "text": [
      "[[-1. -0. -0. -0.]\n",
      " [-0. -1. -0. -0.]\n",
      " [-0. -0. -1. -0.]\n",
      " [-0. -0. -0. -1.]]\n"
     ]
    }
   ],
   "source": [
    "## les variables bik\n",
    "coef_bik = -1 * np.identity(n**2)\n",
    "print(coef_bik)"
   ]
  },
  {
   "cell_type": "code",
   "execution_count": 11,
   "metadata": {},
   "outputs": [
    {
     "name": "stdout",
     "output_type": "stream",
     "text": [
      "[[-19, -6, -17, -2], [-2, -11, -4, -18], [-19, -6, -17, -2], [-2, -11, -4, -18]]\n"
     ]
    }
   ],
   "source": [
    "## les variables x\n",
    "coef_xi = []\n",
    "for k in range(n**2):\n",
    "        coef_xi.append([])\n",
    "        for i in range(p):\n",
    "                coef_xi[-1].append(-u[k%n][i])\n",
    "print(coef_xi)\n",
    "coef_xi = np.array(coef_xi)"
   ]
  },
  {
   "cell_type": "code",
   "execution_count": 12,
   "metadata": {},
   "outputs": [
    {
     "name": "stdout",
     "output_type": "stream",
     "text": [
      "[ 0  0  0  0  0  0 40 50 60 50]\n"
     ]
    }
   ],
   "source": [
    "# contrainte sur le budget\n",
    "budget = [0 for i in range(n*(n+1))]\n",
    "budget += [couts_projet[i] for i in range(p)]\n",
    "budget = np.array(budget)\n",
    "print(budget)"
   ]
  },
  {
   "cell_type": "code",
   "execution_count": 13,
   "metadata": {},
   "outputs": [
    {
     "name": "stdout",
     "output_type": "stream",
     "text": [
      "[[  1.   0.  -1.  -0.  -0.  -0. -19.  -6. -17.  -2.]\n",
      " [  1.   0.  -0.  -1.  -0.  -0.  -2. -11.  -4. -18.]\n",
      " [  0.   1.  -0.  -0.  -1.  -0. -19.  -6. -17.  -2.]\n",
      " [  0.   1.  -0.  -0.  -0.  -1.  -2. -11.  -4. -18.]\n",
      " [  0.   0.   0.   0.   0.   0.  40.  50.  60.  50.]]\n"
     ]
    }
   ],
   "source": [
    "# concatenation des matrices rk, bik, xk \n",
    "result_concat = np.concatenate(\n",
    "        (coef_rk, np.concatenate((coef_bik, coef_xi),axis=1)),\n",
    "        axis=1)\n",
    "\n",
    "# ajout de la contrainte sur les budgets\n",
    "constrainte = np.vstack([result_concat, budget])\n",
    "print(constrainte)\n"
   ]
  },
  {
   "cell_type": "code",
   "execution_count": 14,
   "metadata": {},
   "outputs": [
    {
     "name": "stdout",
     "output_type": "stream",
     "text": [
      "[  0   0   0   0 100]\n"
     ]
    }
   ],
   "source": [
    "## second memebre\n",
    "second_membre = [0 for _ in range(n**2)]\n",
    "second_membre.append(budget_limit)\n",
    "second_membre = np.array(second_membre)\n",
    "print (second_membre)"
   ]
  },
  {
   "cell_type": "code",
   "execution_count": 15,
   "metadata": {},
   "outputs": [
    {
     "name": "stdout",
     "output_type": "stream",
     "text": [
      "[ 9  2 -9 -1 -9 -1  0  0  0  0]\n"
     ]
    }
   ],
   "source": [
    "# Coefficient de la fonction objectif\n",
    "## vecteur w'\n",
    "w_prime = [(w[k] - w[k+1]) for k in range(len(w)-1)]\n",
    "w_prime.append(w[-1])\n",
    "\n",
    "## coefficient fonction objectif\n",
    "c = [(i+1) * w_prime[i] for i in range(n)] # coef des r_k\n",
    "c += [- w_prime[i%n]  for i in range(n*n)] # coef des b_ik\n",
    "c += [0 for i in range(p)] # ajout des coef de x\n",
    "c = np.array(c)\n",
    "print (c)"
   ]
  },
  {
   "cell_type": "code",
   "execution_count": 16,
   "metadata": {},
   "outputs": [
    {
     "name": "stdout",
     "output_type": "stream",
     "text": [
      "Restricted license - for non-production use only - expires 2024-10-28\n"
     ]
    }
   ],
   "source": [
    "# Creer les models de la fonction objectif\n",
    "m = Model(\"exercice1.3\")"
   ]
  },
  {
   "cell_type": "code",
   "execution_count": 17,
   "metadata": {},
   "outputs": [],
   "source": [
    "# declaration des variables de decisions\n",
    "\n",
    "x = []\n",
    "for i in range(n):\n",
    "    x.append(m.addVar(vtype=GRB.CONTINUOUS, lb=0, name=\"r%d\" % (i+1)))\n",
    "for i in range (n):\n",
    "    for j in range(n):\n",
    "        x.append(m.addVar(vtype=GRB.CONTINUOUS, lb=0, name=\"b%d%d\" % ((j+1,(i+1)))))\n",
    "for j in range(p):\n",
    "    x.append(m.addVar(vtype=GRB.BINARY, lb=0, name=\"x%d\" % (j+1) ))"
   ]
  },
  {
   "cell_type": "code",
   "execution_count": 18,
   "metadata": {},
   "outputs": [
    {
     "name": "stdout",
     "output_type": "stream",
     "text": [
      "[<gurobi.Var r1>, <gurobi.Var r2>, <gurobi.Var b11>, <gurobi.Var b21>, <gurobi.Var b12>, <gurobi.Var b22>, <gurobi.Var x1>, <gurobi.Var x2>, <gurobi.Var x3>, <gurobi.Var x4>]\n"
     ]
    }
   ],
   "source": [
    "# maj du modele pour integrer les nouvelles variables\n",
    "m.update()\n",
    "print(x)"
   ]
  },
  {
   "cell_type": "code",
   "execution_count": 19,
   "metadata": {},
   "outputs": [],
   "source": [
    "# definition de l'objectif\n",
    "obj = LinExpr();\n",
    "obj =0\n",
    "for j in range(variable_count):\n",
    "    obj += c[j] * x[j]\n",
    "\n",
    "m.setObjective(obj,GRB.MAXIMIZE)"
   ]
  },
  {
   "cell_type": "code",
   "execution_count": 20,
   "metadata": {},
   "outputs": [
    {
     "name": "stdout",
     "output_type": "stream",
     "text": [
      "range(0, 5) range(0, 10)\n"
     ]
    }
   ],
   "source": [
    "# Definition des contraintes\n",
    "# Definition des contraintes\n",
    "lignes = range(constraint_count)\n",
    "colonnes = range(variable_count)\n",
    "print (lignes, colonnes)\n",
    "for i in lignes:\n",
    "    m.addConstr(quicksum(constrainte[i][j]*x[j] for j in colonnes) <= second_membre[i], \"Contrainte%d\" % i)"
   ]
  },
  {
   "cell_type": "code",
   "execution_count": 21,
   "metadata": {},
   "outputs": [
    {
     "name": "stdout",
     "output_type": "stream",
     "text": [
      "Gurobi Optimizer version 10.0.0 build v10.0.0rc2 (linux64)\n",
      "\n",
      "CPU model: Intel(R) Core(TM) i7-10510U CPU @ 1.80GHz, instruction set [SSE2|AVX|AVX2]\n",
      "Thread count: 8 physical cores, 8 logical processors, using up to 8 threads\n",
      "\n",
      "Optimize a model with 5 rows, 10 columns and 28 nonzeros\n",
      "Model fingerprint: 0xab4ab079\n",
      "Variable types: 6 continuous, 4 integer (4 binary)\n",
      "Coefficient statistics:\n",
      "  Matrix range     [1e+00, 6e+01]\n",
      "  Objective range  [1e+00, 9e+00]\n",
      "  Bounds range     [1e+00, 1e+00]\n",
      "  RHS range        [1e+02, 1e+02]\n",
      "Found heuristic solution: objective -2.00000e+31\n",
      "Presolve removed 0 rows and 2 columns\n",
      "Presolve time: 0.00s\n",
      "\n",
      "Explored 0 nodes (0 simplex iterations) in 0.02 seconds (0.00 work units)\n",
      "Thread count was 1 (of 8 available processors)\n",
      "\n",
      "Solution count 1: -2e+31 \n",
      "No other solutions better than 0\n",
      "\n",
      "Model is unbounded\n",
      "Best objective -2.000000000000e+31, best bound -, gap -\n",
      "\n",
      "Solution optimale:\n",
      "r1 = 0.0\n",
      "r2 = 0.0\n",
      "b11 = 1e+30\n",
      "b21 = 1e+30\n",
      "b12 = 1e+30\n",
      "b22 = 1e+30\n",
      "x1 = -0.0\n",
      "x2 = -0.0\n",
      "x3 = -0.0\n",
      "x4 = -0.0\n",
      "\n",
      "Valeur de la fonction objectif : -2e+31\n"
     ]
    }
   ],
   "source": [
    "# Resolution\n",
    "m.optimize()\n",
    "\n",
    "\n",
    "print(\"\")                \n",
    "print('Solution optimale:')\n",
    "mvars = m.getVars()\n",
    "names = m.getAttr('VarName', mvars)\n",
    "values = m.getAttr('X', mvars)\n",
    "result = dict(zip(names, values))\n",
    "for key in result:\n",
    "    print(key,'=',result[key])\n",
    "print(\"\")\n",
    "print('Valeur de la fonction objectif :', m.objVal)\n"
   ]
  }
 ],
 "metadata": {
  "interpreter": {
   "hash": "31f2aee4e71d21fbe5cf8b01ff0e069b9275f58929596ceb00d14d90e3e16cd6"
  },
  "kernelspec": {
   "display_name": "Python 3.9.7 64-bit",
   "language": "python",
   "name": "python3"
  },
  "language_info": {
   "codemirror_mode": {
    "name": "ipython",
    "version": 3
   },
   "file_extension": ".py",
   "mimetype": "text/x-python",
   "name": "python",
   "nbconvert_exporter": "python",
   "pygments_lexer": "ipython3",
   "version": "3.9.7"
  },
  "orig_nbformat": 4
 },
 "nbformat": 4,
 "nbformat_minor": 2
}
