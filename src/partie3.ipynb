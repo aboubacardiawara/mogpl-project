{
 "cells": [
  {
   "cell_type": "code",
   "execution_count": 19,
   "metadata": {},
   "outputs": [],
   "source": [
    "from gurobipy import *\n",
    "import numpy as np\n",
    "import math as mt\n"
   ]
  },
  {
   "cell_type": "code",
   "execution_count": 20,
   "metadata": {},
   "outputs": [],
   "source": [
    "# Données\n",
    "service_count=2\n",
    "project_count=4\n",
    "n = 2\n",
    "p=4\n",
    "budget_limit = 100\n",
    "constraint_count=n*n +1\n",
    "variable_count= n*n + n  + p\n",
    "couts_projet = np.array([40, 50, 60, 50])"
   ]
  },
  {
   "cell_type": "code",
   "execution_count": 21,
   "metadata": {},
   "outputs": [
    {
     "name": "stdout",
     "output_type": "stream",
     "text": [
      "[[19  6 17  2]\n",
      " [ 2 11  4 18]]\n"
     ]
    }
   ],
   "source": [
    "# Matrice d'utilte\n",
    "matrice_utilite = np.array([[19, 6, 17, 2], [2, 11, 4, 18]])\n",
    "print(matrice_utilite)"
   ]
  },
  {
   "cell_type": "code",
   "execution_count": 22,
   "metadata": {},
   "outputs": [
    {
     "name": "stdout",
     "output_type": "stream",
     "text": [
      "[1, 1]\n"
     ]
    }
   ],
   "source": [
    "# vecteur w\n",
    "w = [2, 1]\n",
    "\n",
    "# creer le vecteur w'\n",
    "w_prime = [(w[k] - w[k+1]) for k in range(len(w)-1)]\n",
    "w_prime.append(w[-1])\n",
    "print(w_prime)"
   ]
  },
  {
   "cell_type": "code",
   "execution_count": 23,
   "metadata": {},
   "outputs": [],
   "source": [
    "# matrice utilite\n",
    "u = matrice_utilite"
   ]
  },
  {
   "cell_type": "code",
   "execution_count": 24,
   "metadata": {},
   "outputs": [
    {
     "name": "stdout",
     "output_type": "stream",
     "text": [
      "[[1 0]\n",
      " [1 0]\n",
      " [0 1]\n",
      " [0 1]]\n"
     ]
    }
   ],
   "source": [
    "## les variables rk\n",
    "coef_rk = []\n",
    "for k in range(n):\n",
    "        for i in range(n):\n",
    "                coef_rk.append([])\n",
    "                for j in range(n):\n",
    "                        coef_rk[-1].append(0)\n",
    "                coef_rk[-1][k] = 1\n",
    "coef_rk = np.array(coef_rk)\n",
    "print(coef_rk)"
   ]
  },
  {
   "cell_type": "code",
   "execution_count": 25,
   "metadata": {},
   "outputs": [
    {
     "name": "stdout",
     "output_type": "stream",
     "text": [
      "[[-1. -0. -0. -0.]\n",
      " [-0. -1. -0. -0.]\n",
      " [-0. -0. -1. -0.]\n",
      " [-0. -0. -0. -1.]]\n"
     ]
    }
   ],
   "source": [
    "## les variables bik\n",
    "coef_bik = -1 * np.identity(n**2)\n",
    "print(coef_bik)"
   ]
  },
  {
   "cell_type": "code",
   "execution_count": 26,
   "metadata": {},
   "outputs": [
    {
     "name": "stdout",
     "output_type": "stream",
     "text": [
      "[[-19, -6, -17, -2], [-2, -11, -4, -18], [-19, -6, -17, -2], [-2, -11, -4, -18]]\n"
     ]
    }
   ],
   "source": [
    "## les variables x\n",
    "coef_xi = []\n",
    "for k in range(n**2):\n",
    "        coef_xi.append([])\n",
    "        for i in range(p):\n",
    "                coef_xi[-1].append(-u[k%n][i])\n",
    "print(coef_xi)\n",
    "coef_xi = np.array(coef_xi)"
   ]
  },
  {
   "cell_type": "code",
   "execution_count": 27,
   "metadata": {},
   "outputs": [
    {
     "name": "stdout",
     "output_type": "stream",
     "text": [
      "[ 0  0  0  0  0  0 40 50 60 50]\n"
     ]
    }
   ],
   "source": [
    "# contrainte sur le budget\n",
    "budget = [0 for i in range(n*(n+1))]\n",
    "budget += [couts_projet[i] for i in range(p)]\n",
    "budget = np.array(budget)\n",
    "print(budget)"
   ]
  },
  {
   "cell_type": "code",
   "execution_count": 28,
   "metadata": {},
   "outputs": [
    {
     "name": "stdout",
     "output_type": "stream",
     "text": [
      "[[  1.   0.  -1.  -0.  -0.  -0. -19.  -6. -17.  -2.]\n",
      " [  1.   0.  -0.  -1.  -0.  -0.  -2. -11.  -4. -18.]\n",
      " [  0.   1.  -0.  -0.  -1.  -0. -19.  -6. -17.  -2.]\n",
      " [  0.   1.  -0.  -0.  -0.  -1.  -2. -11.  -4. -18.]\n",
      " [  0.   0.   0.   0.   0.   0.  40.  50.  60.  50.]]\n"
     ]
    }
   ],
   "source": [
    "# concatenation des matrices rk, bik, xk \n",
    "result_concat = np.concatenate(\n",
    "        (coef_rk, np.concatenate((coef_bik, coef_xi),axis=1)),\n",
    "        axis=1)\n",
    "\n",
    "# ajout de la contrainte sur les budgets\n",
    "constrainte = np.vstack([result_concat, budget])\n",
    "print(constrainte)"
   ]
  },
  {
   "cell_type": "code",
   "execution_count": 29,
   "metadata": {},
   "outputs": [
    {
     "name": "stdout",
     "output_type": "stream",
     "text": [
      "[  0   0   0   0 100]\n"
     ]
    }
   ],
   "source": [
    "## second memebre\n",
    "second_membre = [0 for _ in range(n**2)]\n",
    "second_membre.append(budget_limit)\n",
    "second_membre = np.array(second_membre)\n",
    "print (second_membre)"
   ]
  },
  {
   "cell_type": "code",
   "execution_count": 30,
   "metadata": {},
   "outputs": [
    {
     "name": "stdout",
     "output_type": "stream",
     "text": [
      "[ 1  2 -1 -1 -1 -1  0  0  0  0]\n"
     ]
    }
   ],
   "source": [
    "# Coefficient de la fonction objectif\n",
    "## vecteur w'\n",
    "w_prime = [(w[k] - w[k+1]) for k in range(len(w)-1)]\n",
    "w_prime.append(w[-1])\n",
    "\n",
    "## coefficient fonction objectif\n",
    "c = [(i+1) * w_prime[i] for i in range(n)] # coef des r_k\n",
    "# coef des b_ik\n",
    "for i in range(n) :\n",
    "    for j in range(n) :\n",
    "        c.append(-1*w_prime[i])\n",
    "\n",
    "c += [0 for i in range(p)] # ajout des coef de x\n",
    "c = np.array(c)\n",
    "print(c)"
   ]
  },
  {
   "cell_type": "code",
   "execution_count": 31,
   "metadata": {},
   "outputs": [],
   "source": [
    "# Creer les models de la fonction objectif\n",
    "m = Model(\"exercice1.3\")"
   ]
  },
  {
   "cell_type": "code",
   "execution_count": 32,
   "metadata": {},
   "outputs": [],
   "source": [
    "# declaration des variables de decisions\n",
    "\n",
    "x = []\n",
    "for i in range(n):\n",
    "    x.append(m.addVar(vtype=GRB.CONTINUOUS, lb=0, name=\"r%d\" % (i+1)))\n",
    "for i in range (n):\n",
    "    for j in range(n):\n",
    "        x.append(m.addVar(vtype=GRB.CONTINUOUS, lb=0, name=\"b%d%d\" % ((j+1,(i+1)))))\n",
    "for j in range(p):\n",
    "    x.append(m.addVar(vtype=GRB.BINARY, lb=0, name=\"x%d\" % (j+1) ))"
   ]
  },
  {
   "cell_type": "code",
   "execution_count": 33,
   "metadata": {},
   "outputs": [
    {
     "name": "stdout",
     "output_type": "stream",
     "text": [
      "[<gurobi.Var r1>, <gurobi.Var r2>, <gurobi.Var b11>, <gurobi.Var b21>, <gurobi.Var b12>, <gurobi.Var b22>, <gurobi.Var x1>, <gurobi.Var x2>, <gurobi.Var x3>, <gurobi.Var x4>]\n"
     ]
    }
   ],
   "source": [
    "# maj du modele pour integrer les nouvelles variables\n",
    "m.update()\n",
    "print(x)"
   ]
  },
  {
   "cell_type": "code",
   "execution_count": 34,
   "metadata": {},
   "outputs": [],
   "source": [
    "# definition de l'objectif\n",
    "obj = LinExpr();\n",
    "obj =0\n",
    "for j in range(variable_count):\n",
    "    obj += c[j] * x[j]\n",
    "\n",
    "m.setObjective(obj,GRB.MAXIMIZE)"
   ]
  },
  {
   "cell_type": "code",
   "execution_count": 35,
   "metadata": {},
   "outputs": [
    {
     "name": "stdout",
     "output_type": "stream",
     "text": [
      "range(0, 5) range(0, 10)\n"
     ]
    }
   ],
   "source": [
    "# Definition des contraintes\n",
    "# Definition des contraintes\n",
    "lignes = range(constraint_count)\n",
    "colonnes = range(variable_count)\n",
    "print (lignes, colonnes)\n",
    "for i in lignes:\n",
    "    m.addConstr(quicksum(constrainte[i][j]*x[j] for j in colonnes) <= second_membre[i], \"Contrainte%d\" % i)"
   ]
  },
  {
   "cell_type": "code",
   "execution_count": 36,
   "metadata": {},
   "outputs": [
    {
     "name": "stdout",
     "output_type": "stream",
     "text": [
      "Gurobi Optimizer version 10.0.0 build v10.0.0rc2 (mac64[x86])\n",
      "\n",
      "CPU model: Intel(R) Core(TM) i5-7360U CPU @ 2.30GHz\n",
      "Thread count: 2 physical cores, 4 logical processors, using up to 4 threads\n",
      "\n",
      "Optimize a model with 5 rows, 10 columns and 28 nonzeros\n",
      "Model fingerprint: 0xcb05b678\n",
      "Variable types: 6 continuous, 4 integer (4 binary)\n",
      "Coefficient statistics:\n",
      "  Matrix range     [1e+00, 6e+01]\n",
      "  Objective range  [1e+00, 2e+00]\n",
      "  Bounds range     [1e+00, 1e+00]\n",
      "  RHS range        [1e+02, 1e+02]\n",
      "Found heuristic solution: objective -0.0000000\n",
      "Presolve time: 0.00s\n",
      "Presolved: 5 rows, 10 columns, 28 nonzeros\n",
      "Variable types: 6 continuous, 4 integer (4 binary)\n",
      "\n",
      "Root relaxation: objective 6.660000e+01, 6 iterations, 0.00 seconds (0.00 work units)\n",
      "\n",
      "    Nodes    |    Current Node    |     Objective Bounds      |     Work\n",
      " Expl Unexpl |  Obj  Depth IntInf | Incumbent    BestBd   Gap | It/Node Time\n",
      "\n",
      "     0     0   66.60000    0    1   -0.00000   66.60000      -     -    0s\n",
      "H    0     0                      60.0000000   66.60000  11.0%     -    0s\n",
      "*    0     0               0      61.0000000   61.00000  0.00%     -    0s\n",
      "\n",
      "Cutting planes:\n",
      "  Cover: 1\n",
      "  MIR: 3\n",
      "\n",
      "Explored 1 nodes (10 simplex iterations) in 0.02 seconds (0.00 work units)\n",
      "Thread count was 4 (of 4 available processors)\n",
      "\n",
      "Solution count 2: 61 -0 \n",
      "\n",
      "Optimal solution found (tolerance 1.00e-04)\n",
      "Best objective 6.100000000000e+01, best bound 6.100000000000e+01, gap 0.0000%\n",
      "\n",
      "Solution optimale:\n",
      "r1 = 20.0\n",
      "r2 = 21.000000000000004\n",
      "b11 = 0.0\n",
      "b21 = 0.0\n",
      "b12 = 0.0\n",
      "b22 = 1.0000000000000036\n",
      "x1 = 1.0\n",
      "x2 = 0.0\n",
      "x3 = -0.0\n",
      "x4 = 1.0\n",
      "\n",
      "Valeur de la fonction objectif : 61.0\n"
     ]
    }
   ],
   "source": [
    "# Resolution\n",
    "m.optimize()\n",
    "\n",
    "\n",
    "print(\"\")                \n",
    "print('Solution optimale:')\n",
    "mvars = m.getVars()\n",
    "names = m.getAttr('VarName', mvars)\n",
    "values = m.getAttr('X', mvars)\n",
    "result = dict(zip(names, values))\n",
    "for key in result:\n",
    "    print(key,'=',result[key])\n",
    "print(\"\")\n",
    "print('Valeur de la fonction objectif :', m.objVal)"
   ]
  }
 ],
 "metadata": {
  "kernelspec": {
   "display_name": "Python 3.11.0 64-bit",
   "language": "python",
   "name": "python3"
  },
  "language_info": {
   "codemirror_mode": {
    "name": "ipython",
    "version": 3
   },
   "file_extension": ".py",
   "mimetype": "text/x-python",
   "name": "python",
   "nbconvert_exporter": "python",
   "pygments_lexer": "ipython3",
   "version": "3.11.0"
  },
  "orig_nbformat": 4,
  "vscode": {
   "interpreter": {
    "hash": "aee8b7b246df8f9039afb4144a1f6fd8d2ca17a180786b69acc140d282b71a49"
   }
  }
 },
 "nbformat": 4,
 "nbformat_minor": 2
}
