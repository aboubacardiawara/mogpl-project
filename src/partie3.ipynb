{
 "cells": [
  {
   "cell_type": "code",
   "execution_count": 281,
   "metadata": {},
   "outputs": [],
   "source": [
    "from gurobipy import *\n",
    "import numpy as np\n",
    "import math as mt"
   ]
  },
  {
   "cell_type": "code",
   "execution_count": 282,
   "metadata": {},
   "outputs": [],
   "source": [
    "# Données\n",
    "constraint_count=None\n",
    "variable_count=None\n",
    "service_count=2\n",
    "project_count=4\n",
    "n = 2\n",
    "p=4\n",
    "couts_projet = np.array([40, 50, 60, 50])"
   ]
  },
  {
   "cell_type": "code",
   "execution_count": 283,
   "metadata": {},
   "outputs": [
    {
     "name": "stdout",
     "output_type": "stream",
     "text": [
      "[[19  6 17  2]\n",
      " [ 2 11  4 18]]\n"
     ]
    }
   ],
   "source": [
    "# Matrice d'utilte\n",
    "matrice_utilite = np.array([[19, 6, 17, 2], [2, 11, 4, 18]])\n",
    "print(matrice_utilite)"
   ]
  },
  {
   "cell_type": "code",
   "execution_count": 284,
   "metadata": {},
   "outputs": [
    {
     "name": "stdout",
     "output_type": "stream",
     "text": [
      "[1, 1]\n"
     ]
    }
   ],
   "source": [
    "# vecteur w\n",
    "w = [2, 1]\n",
    "\n",
    "# creer le vecteur w'\n",
    "w_prime = [(w[k] - w[k+1]) for k in range(len(w)-1)]\n",
    "w_prime.append(w[-1])\n",
    "print(w_prime)"
   ]
  },
  {
   "cell_type": "code",
   "execution_count": 285,
   "metadata": {},
   "outputs": [
    {
     "name": "stdout",
     "output_type": "stream",
     "text": [
      "[[19  6 17  2]\n",
      " [ 2 11  4 18]]\n"
     ]
    }
   ],
   "source": [
    "# matrice utilite\n",
    "u = np.array([\n",
    "        [19, 6, 17, 2],\n",
    "        [2, 11, 4, 18]\n",
    "])\n",
    "print(u)"
   ]
  },
  {
   "cell_type": "code",
   "execution_count": 286,
   "metadata": {},
   "outputs": [],
   "source": [
    "# Generation de la matrice des contraintes "
   ]
  },
  {
   "cell_type": "code",
   "execution_count": 287,
   "metadata": {},
   "outputs": [
    {
     "name": "stdout",
     "output_type": "stream",
     "text": [
      "[[1 0]\n",
      " [1 0]\n",
      " [0 1]\n",
      " [0 1]]\n"
     ]
    }
   ],
   "source": [
    "## les variables rk\n",
    "coef_rk = []\n",
    "for k in range(n):\n",
    "        for i in range(n):\n",
    "                coef_rk.append([])\n",
    "                for j in range(n):\n",
    "                        coef_rk[-1].append(0)\n",
    "                coef_rk[-1][k] = 1\n",
    "coef_rk = np.array(coef_rk)\n",
    "print(coef_rk)\n"
   ]
  },
  {
   "cell_type": "code",
   "execution_count": 288,
   "metadata": {},
   "outputs": [
    {
     "name": "stdout",
     "output_type": "stream",
     "text": [
      "[[-1. -0. -0. -0.]\n",
      " [-0. -1. -0. -0.]\n",
      " [-0. -0. -1. -0.]\n",
      " [-0. -0. -0. -1.]]\n"
     ]
    }
   ],
   "source": [
    "## les variables bik\n",
    "coef_bik = np.identity(n**2)\n",
    "coef_bik *= -1\n",
    "print(coef_bik)"
   ]
  },
  {
   "cell_type": "code",
   "execution_count": 289,
   "metadata": {},
   "outputs": [
    {
     "name": "stdout",
     "output_type": "stream",
     "text": [
      "[[-19, -6, -17, -2], [-2, -11, -4, -18], [-19, -6, -17, -2], [-2, -11, -4, -18]]\n"
     ]
    }
   ],
   "source": [
    "## les variables x\n",
    "coef_xi = []\n",
    "for k in range(n**2):\n",
    "        coef_xi.append([])\n",
    "        for i in range(p):\n",
    "                coef_xi[-1].append(-u[k%n][i])\n",
    "print(coef_xi)"
   ]
  },
  {
   "cell_type": "code",
   "execution_count": 290,
   "metadata": {},
   "outputs": [
    {
     "name": "stdout",
     "output_type": "stream",
     "text": [
      "[ 0  0  0  0  0  0 40 50 60 50]\n"
     ]
    }
   ],
   "source": [
    "# contrainte sur le budget\n",
    "budget = [0 for i in range(n*(n+1))]\n",
    "budget += [couts_projet[i] for i in range(p)]\n",
    "budget = np.array(budget)\n",
    "print(budget)"
   ]
  },
  {
   "cell_type": "code",
   "execution_count": 291,
   "metadata": {},
   "outputs": [
    {
     "name": "stdout",
     "output_type": "stream",
     "text": [
      "[[  1.   0.  -1.  -0.  -0.  -0. -19.  -6. -17.  -2.]\n",
      " [  1.   0.  -0.  -1.  -0.  -0.  -2. -11.  -4. -18.]\n",
      " [  0.   1.  -0.  -0.  -1.  -0. -19.  -6. -17.  -2.]\n",
      " [  0.   1.  -0.  -0.  -0.  -1.  -2. -11.  -4. -18.]\n",
      " [  0.   0.   0.   0.   0.   0.  40.  50.  60.  50.]]\n"
     ]
    }
   ],
   "source": [
    "# concatenation des matrices rk, bik, xk \n",
    "result_concat = np.concatenate(\n",
    "        (coef_rk, np.concatenate((coef_bik, coef_xi),axis=1)),\n",
    "        axis=1)\n",
    "\n",
    "# ajout de la contrainte sur les budgets\n",
    "constrainte = np.vstack([result_concat, budget])\n",
    "print(constrainte)\n"
   ]
  },
  {
   "cell_type": "code",
   "execution_count": 293,
   "metadata": {},
   "outputs": [],
   "source": [
    "## second memebre\n",
    "second_membre = np.array(\n",
    "        [0 for i in range(n**2 + 1)]\n",
    ")"
   ]
  },
  {
   "cell_type": "code",
   "execution_count": 298,
   "metadata": {},
   "outputs": [],
   "source": [
    "# Coefficient de la fonction objectif\n",
    "## vecteur w'\n",
    "w_prime = [(w[k] - w[k+1]) for k in range(len(w)-1)]\n",
    "w_prime.append(w[-1])\n",
    "\n",
    "## coefficient fonction objectif\n",
    "c = [(i+1) * w_prime[i] for i in range(n)] # coef des r_k\n",
    "c += [- w_prime[i%n]  for i in range(0, n*n)] # coef des b_ik\n",
    "c += [0 for i in range(p)] # ajout des coef de x\n",
    "c = np.array(c)"
   ]
  },
  {
   "cell_type": "code",
   "execution_count": null,
   "metadata": {},
   "outputs": [],
   "source": []
  }
 ],
 "metadata": {
  "interpreter": {
   "hash": "31f2aee4e71d21fbe5cf8b01ff0e069b9275f58929596ceb00d14d90e3e16cd6"
  },
  "kernelspec": {
   "display_name": "Python 3.9.7 64-bit",
   "language": "python",
   "name": "python3"
  },
  "language_info": {
   "codemirror_mode": {
    "name": "ipython",
    "version": 3
   },
   "file_extension": ".py",
   "mimetype": "text/x-python",
   "name": "python",
   "nbconvert_exporter": "python",
   "pygments_lexer": "ipython3",
   "version": "3.9.7"
  },
  "orig_nbformat": 4
 },
 "nbformat": 4,
 "nbformat_minor": 2
}
