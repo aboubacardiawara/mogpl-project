{
 "cells": [
  {
   "cell_type": "code",
   "execution_count": 121,
   "metadata": {},
   "outputs": [],
   "source": [
    "from gurobipy import *\n",
    "import numpy as np\n",
    "import math as mt\n"
   ]
  },
  {
   "cell_type": "code",
   "execution_count": 122,
   "metadata": {},
   "outputs": [],
   "source": [
    "def random_matrice_utilite(n, p):\n",
    "        return np.random.randint(50 ,size=(n,p))\n",
    "\n",
    "def random_cout_projet(p):\n",
    "        return np.random.randint(200 ,size=(p))\n",
    "\n",
    "def generate_w_prime(n):\n",
    "        # vecteur w\n",
    "        w=[i for i in range(n,0,-1)]\n",
    "\n",
    "        # creer le vecteur w'\n",
    "        w_prime = [(w[k] - w[k+1]) for k in range(len(w)-1)]\n",
    "        w_prime.append(w[-1])\n",
    "        return w_prime\n",
    "\n",
    "def generate_contrainte_matrice(n, p, u, couts_projet):\n",
    "        ## les variables rk\n",
    "        coef_rk = []\n",
    "        for k in range(n):\n",
    "                for i in range(n):\n",
    "                        coef_rk.append([])\n",
    "                        for j in range(n):\n",
    "                                coef_rk[-1].append(0)\n",
    "                        coef_rk[-1][k] = 1\n",
    "        coef_rk = np.array(coef_rk)\n",
    "        ## les variables bik\n",
    "        coef_bik = -1 * np.identity(n**2)\n",
    "        ## les variables x\n",
    "        coef_xi = []\n",
    "        for k in range(n**2):\n",
    "                coef_xi.append([])\n",
    "                for i in range(p):\n",
    "                        coef_xi[-1].append(-u[k%n][i])\n",
    "        coef_xi = np.array(coef_xi)\n",
    "        # contrainte sur le budget\n",
    "        budget = [0 for i in range(n*(n+1))]\n",
    "        budget += [couts_projet[i] for i in range(p)]\n",
    "        budget = np.array(budget)\n",
    "        # concatenation des matrices rk, bik, xk \n",
    "        result_concat = np.concatenate(\n",
    "                (coef_rk, np.concatenate((coef_bik, coef_xi),axis=1)),\n",
    "                axis=1)\n",
    "\n",
    "        # ajout de la contrainte sur les budgets\n",
    "        constrainte = np.vstack([result_concat, budget])\n",
    "        return constrainte\n",
    "def second_membre_contraintes(n, budget_limit):\n",
    "        second_membre = [0 for _ in range(n**2)]\n",
    "        second_membre.append(budget_limit)\n",
    "        second_membre = np.array(second_membre)\n",
    "        return second_membre\n",
    "\n",
    "def coef_func_objectif(w_prime, n, p):\n",
    "        ## coefficient fonction objectif\n",
    "        c = [(i+1) * w_prime[i] for i in range(n)] # coef des r_k\n",
    "        # coef des b_ik\n",
    "        for i in range(n) :\n",
    "                for j in range(n) :\n",
    "                        c.append(-1*w_prime[i])\n",
    "\n",
    "        c += [0 for i in range(p)] # ajout des coef de x\n",
    "        c = np.array(c)\n",
    "        #print(c)\n",
    "        return c\n",
    "\n",
    "def declare_variables(m, n, p):\n",
    "        x = []\n",
    "        for i in range(n):\n",
    "                x.append(m.addVar(vtype=GRB.CONTINUOUS, lb=0, name=\"r%d\" % (i+1)))\n",
    "        for i in range (n):\n",
    "                for j in range(n):\n",
    "                        x.append(m.addVar(vtype=GRB.CONTINUOUS, lb=0, name=\"b%d%d\" % ((j+1,(i+1)))))\n",
    "        for j in range(p):\n",
    "                x.append(m.addVar(vtype=GRB.BINARY, lb=0, name=\"x%d\" % (j+1) ))\n",
    "        return x\n",
    "\n",
    "def definition_func_objectif(m, n, p, c, x):\n",
    "        obj = LinExpr();\n",
    "        obj =0\n",
    "        for j in range(n*n+n+p):\n",
    "                obj += c[j] * x[j]\n",
    "\n",
    "        m.setObjective(obj,GRB.MAXIMIZE)\n",
    "        return obj\n",
    "        \n",
    "def definition_contraintes(m, x, constrainte, second_membre, n, p):\n",
    "        # Definition des contraintes\n",
    "        # Definition des contraintes\n",
    "        lignes = range(n*n+1)\n",
    "        colonnes = range(n*n+n+p)\n",
    "        #print (lignes, colonnes)\n",
    "        for i in lignes:\n",
    "                m.addConstr(quicksum(constrainte[i][j]*x[j] for j in colonnes) <= second_membre[i], \"Contrainte%d\" % i)\n",
    "        \n",
    "def display_vars_value(m):\n",
    "        print(\"\")                \n",
    "        print('Solution optimale:')\n",
    "        mvars = m.getVars()\n",
    "        names = m.getAttr('VarName', mvars)\n",
    "        values = m.getAttr('X', mvars)\n",
    "        result = dict(zip(names, values))\n",
    "        for key in result:\n",
    "                print(key,'=',result[key])\n",
    "        print(\"\")\n",
    "        print('Valeur de la fonction objectif :', m.objVal)"
   ]
  },
  {
   "cell_type": "code",
   "execution_count": 123,
   "metadata": {},
   "outputs": [
    {
     "name": "stdout",
     "output_type": "stream",
     "text": [
      "[(2, 5, 0.0007648229598999024), (2, 10, 0.0013169527053833007), (2, 15, 0.0014892816543579102), (2, 20, 0.003972482681274414), (5, 5, 0.0018764734268188477), (5, 10, 0.003460192680358887), (5, 15, 0.010784602165222168), (5, 20, 0.015257668495178223), (10, 5, 0.0035968303680419924), (10, 10, 0.008042120933532714), (10, 15, 0.019879627227783202), (10, 20, 0.024289989471435548)]\n"
     ]
    }
   ],
   "source": [
    "def experience(n, p):\n",
    "        t=0\n",
    "        for i in range(10):\n",
    "                matrice_utilite = random_matrice_utilite(n, p)\n",
    "                couts_projet = random_cout_projet(p)\n",
    "                w_prime = generate_w_prime(n)\n",
    "                contrainte = generate_contrainte_matrice(n, p, matrice_utilite, couts_projet)\n",
    "                second_membre = second_membre_contraintes(n, sum(couts_projet)/2)\n",
    "                coef_fonction_objectif = coef_func_objectif(w_prime, n, p)\n",
    "                m = Model(\"Experimentation 1.3\")\n",
    "                m.Params.LogToConsole = 0\n",
    "                x = declare_variables(m, n, p)\n",
    "                m.update()\n",
    "                obj = definition_func_objectif(m, n, p, coef_fonction_objectif, x)\n",
    "                definition_contraintes(m, x, contrainte, second_membre, n, p)\n",
    "\n",
    "                m.optimize()\n",
    "                #display_vars_value(m)\n",
    "\n",
    "                t+=m.Runtime\n",
    "        return(t/10)\n",
    "       \n",
    "nb=[2,5,10]     \n",
    "nbp=[5,10,15,20]\n",
    "res=[]   \n",
    "for i in nb :\n",
    "        for j in nbp :\n",
    "                t=experience(i,j)\n",
    "                res.append((i,j,t)) \n",
    "               \n",
    "print(res)                      \n",
    "\n",
    "\n",
    "       "
   ]
  },
  {
   "cell_type": "code",
   "execution_count": 125,
   "metadata": {},
   "outputs": [
    {
     "data": {
      "text/plain": [
       "<matplotlib.legend.Legend at 0x11269b090>"
      ]
     },
     "execution_count": 125,
     "metadata": {},
     "output_type": "execute_result"
    },
    {
     "data": {
      "image/png": "[encoded data removed]",
      "text/plain": [
       "<Figure size 640x480 with 1 Axes>"
      ]
     },
     "metadata": {},
     "output_type": "display_data"
    }
   ],
   "source": [
    "import matplotlib.pyplot as plt\n",
    "\n",
    "data=[i[2]for i in res]\n",
    "p=[5,10,15,20]\n",
    "c1=[] \n",
    "c2=[] \n",
    "c3=[]\n",
    "for i in range (len(data)):\n",
    "    if i>=0 and i<4:\n",
    "        c1+=[data[i]]\n",
    "    elif i>=4 and i<8:\n",
    "        c2+=[data[i]]\n",
    "    else:\n",
    "        c3+=[data[i]]\n",
    "\n",
    "plt.plot(p,c1, label='n=2')\n",
    "plt.plot(p,c2,label='n=5')\n",
    "plt.plot(p,c3,label='n=10')\n",
    "plt.legend()\n"
   ]
  }
 ],
 "metadata": {
  "kernelspec": {
   "display_name": "Python 3.11.0 64-bit",
   "language": "python",
   "name": "python3"
  },
  "language_info": {
   "codemirror_mode": {
    "name": "ipython",
    "version": 3
   },
   "file_extension": ".py",
   "mimetype": "text/x-python",
   "name": "python",
   "nbconvert_exporter": "python",
   "pygments_lexer": "ipython3",
   "version": "3.11.0"
  },
  "orig_nbformat": 4,
  "vscode": {
   "interpreter": {
    "hash": "aee8b7b246df8f9039afb4144a1f6fd8d2ca17a180786b69acc140d282b71a49"
   }
  }
 },
 "nbformat": 4,
 "nbformat_minor": 2
}
