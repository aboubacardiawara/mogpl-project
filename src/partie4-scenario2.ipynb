{
 "cells": [
  {
   "cell_type": "code",
   "execution_count": 33,
   "metadata": {},
   "outputs": [],
   "source": [
    "from gurobipy import *\n",
    "import numpy as np\n",
    "import math as mt"
   ]
  },
  {
   "cell_type": "code",
   "execution_count": 34,
   "metadata": {},
   "outputs": [],
   "source": [
    "# Poser le nombre des varialbles et des contraintes\n",
    "nbcont=7\n",
    "nbvar=12\n"
   ]
  },
  {
   "cell_type": "code",
   "execution_count": 35,
   "metadata": {},
   "outputs": [
    {
     "name": "stdout",
     "output_type": "stream",
     "text": [
      "[[ 1  1  1  0  0  0  0  0  0  0  0  0]\n",
      " [-1  0  0  1  1  1  0  0  0  0  0  0]\n",
      " [ 0 -1  0 -1  0  0  1  1 -1  0  0  0]\n",
      " [ 0  0 -1  0 -1  0  0  0  1  1  0  0]\n",
      " [ 0  0  0  0  0 -1 -1  0  0  0  1  0]\n",
      " [ 0  0  0  0  0  0  0 -1  0 -1  0  1]\n",
      " [ 0  0  0  0  0  0  0  0  0  0 -1 -1]]\n"
     ]
    }
   ],
   "source": [
    "# Matrice des contraintes\n",
    "\n",
    "contraintes = [\n",
    "        [1, 1, 1, 0, 0, 0, 0, 0, 0, 0, 0, 0],\n",
    "        [-1, 0, 0, 1, 1, 1, 0, 0, 0, 0, 0, 0],\n",
    "        [0, -1, 0, -1, 0, 0, 1, 1, -1, 0, 0, 0],\n",
    "        [0, 0, -1, 0, -1, 0, 0, 0, 1, 1, 0, 0],\n",
    "        [0, 0, 0, 0, 0, -1, -1, 0, 0, 0, 1, 0],\n",
    "        [0, 0, 0, 0, 0, 0, 0, -1, 0, -1, 0, 1],\n",
    "        [0, 0, 0, 0, 0, 0, 0, 0, 0, 0, -1, -1],\n",
    "]\n",
    "contraintes=np.array(contraintes)\n",
    "print(contraintes)"
   ]
  },
  {
   "cell_type": "code",
   "execution_count": 36,
   "metadata": {},
   "outputs": [
    {
     "name": "stdout",
     "output_type": "stream",
     "text": [
      "[1, 0, 0, 0, 0, 0, -1]\n"
     ]
    }
   ],
   "source": [
    "# Second membre\n",
    "S=[1]\n",
    "S+=[0 for i in range(nbcont-2)]\n",
    "S+=[-1]\n",
    "print(S)"
   ]
  },
  {
   "cell_type": "code",
   "execution_count": 37,
   "metadata": {},
   "outputs": [
    {
     "name": "stdout",
     "output_type": "stream",
     "text": [
      "[3, 4, 6, 2, 3, 6, 1, 2, 4, 5, 1, 1]\n"
     ]
    }
   ],
   "source": [
    "# Coefficients de la fonction objectif\n",
    "coef=[3,4,6,2,3,6,1,2,4,5,1,1]\n",
    "print(coef)"
   ]
  },
  {
   "cell_type": "code",
   "execution_count": 38,
   "metadata": {},
   "outputs": [],
   "source": [
    "# Creer les models de la fonction objectif\n",
    "m = Model(\"Partie4 scenario2\") "
   ]
  },
  {
   "cell_type": "code",
   "execution_count": 39,
   "metadata": {},
   "outputs": [
    {
     "name": "stdout",
     "output_type": "stream",
     "text": [
      "[<gurobi.Var Xab>, <gurobi.Var Xac>, <gurobi.Var Xad>, <gurobi.Var Xbc>, <gurobi.Var Xbd>, <gurobi.Var Xbe>, <gurobi.Var Xce>, <gurobi.Var Xcf>, <gurobi.Var Xdc>, <gurobi.Var Xdf>, <gurobi.Var Xeg>, <gurobi.Var Xfg>]\n"
     ]
    }
   ],
   "source": [
    "vars = ['ab', 'ac', 'ad', 'bc', 'bd', 'be', 'ce', 'cf', 'dc', 'df', 'eg', 'fg']\n",
    "x = []\n",
    "for i in vars :\n",
    "    x.append(m.addVar(vtype=GRB.CONTINUOUS, lb=0, name=\"X%s\" % (i)))\n",
    "\n",
    "m.update()\n",
    "print(x)\n"
   ]
  },
  {
   "cell_type": "code",
   "execution_count": 40,
   "metadata": {},
   "outputs": [],
   "source": [
    "# definition de l'objectif\n",
    "obj = LinExpr();\n",
    "obj =0\n",
    "for j in range(nbvar):\n",
    "    obj += coef[j] * x[j]\n",
    "\n",
    "m.setObjective(obj,GRB.MINIMIZE)"
   ]
  },
  {
   "cell_type": "code",
   "execution_count": 41,
   "metadata": {},
   "outputs": [],
   "source": [
    "# Definition des contraintes\n",
    "lignes = range(nbcont)\n",
    "colonnes = range(nbvar)\n",
    "\n",
    "for i in lignes:\n",
    "    m.addConstr(quicksum(contraintes[i][j]*x[j] for j in colonnes) == S[i], \"Contrainte%d\" % i)"
   ]
  },
  {
   "cell_type": "code",
   "execution_count": 42,
   "metadata": {},
   "outputs": [
    {
     "name": "stdout",
     "output_type": "stream",
     "text": [
      "Gurobi Optimizer version 10.0.0 build v10.0.0rc2 (mac64[x86])\n",
      "\n",
      "CPU model: Intel(R) Core(TM) i5-7360U CPU @ 2.30GHz\n",
      "Thread count: 2 physical cores, 4 logical processors, using up to 4 threads\n",
      "\n",
      "Optimize a model with 7 rows, 12 columns and 24 nonzeros\n",
      "Model fingerprint: 0x201815b2\n",
      "Coefficient statistics:\n",
      "  Matrix range     [1e+00, 1e+00]\n",
      "  Objective range  [1e+00, 6e+00]\n",
      "  Bounds range     [0e+00, 0e+00]\n",
      "  RHS range        [1e+00, 1e+00]\n",
      "Presolve removed 3 rows and 3 columns\n",
      "Presolve time: 0.01s\n",
      "Presolved: 4 rows, 9 columns, 18 nonzeros\n",
      "\n",
      "Iteration    Objective       Primal Inf.    Dual Inf.      Time\n",
      "       0    5.0000000e+00   2.000000e+00   0.000000e+00      0s\n",
      "       1    6.0000000e+00   0.000000e+00   0.000000e+00      0s\n",
      "\n",
      "Solved in 1 iterations and 0.02 seconds (0.00 work units)\n",
      "Optimal objective  6.000000000e+00\n",
      "\n",
      "Solution optimale:\n",
      "Xab = 0.0\n",
      "Xac = 1.0\n",
      "Xad = 0.0\n",
      "Xbc = 0.0\n",
      "Xbd = 0.0\n",
      "Xbe = 0.0\n",
      "Xce = 1.0\n",
      "Xcf = 0.0\n",
      "Xdc = 0.0\n",
      "Xdf = 0.0\n",
      "Xeg = 1.0\n",
      "Xfg = 0.0\n",
      "\n",
      "Valeur de la fonction objectif : 6.0\n"
     ]
    }
   ],
   "source": [
    "# Resolution\n",
    "m.optimize()\n",
    "\n",
    "\n",
    "print(\"\")                \n",
    "print('Solution optimale:')\n",
    "mvars = m.getVars()\n",
    "names = m.getAttr('VarName', mvars)\n",
    "values = m.getAttr('X', mvars)\n",
    "result = dict(zip(names, values))\n",
    "for key in result:\n",
    "    print(key,'=',result[key])\n",
    "print(\"\")\n",
    "print('Valeur de la fonction objectif :', m.objVal)"
   ]
  }
 ],
 "metadata": {
  "kernelspec": {
   "display_name": "Python 3.11.0 64-bit",
   "language": "python",
   "name": "python3"
  },
  "language_info": {
   "codemirror_mode": {
    "name": "ipython",
    "version": 3
   },
   "file_extension": ".py",
   "mimetype": "text/x-python",
   "name": "python",
   "nbconvert_exporter": "python",
   "pygments_lexer": "ipython3",
   "version": "3.11.0"
  },
  "orig_nbformat": 4,
  "vscode": {
   "interpreter": {
    "hash": "aee8b7b246df8f9039afb4144a1f6fd8d2ca17a180786b69acc140d282b71a49"
   }
  }
 },
 "nbformat": 4,
 "nbformat_minor": 2
}
